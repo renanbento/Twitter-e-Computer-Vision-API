{
 "cells": [
  {
   "cell_type": "code",
   "execution_count": null,
   "metadata": {
    "id": "8XfpRE1EKs8K"
   },
   "outputs": [],
   "source": [
    "import tweepy as tw"
   ]
  },
  {
   "cell_type": "code",
   "execution_count": null,
   "metadata": {
    "id": "EBHLCL1eNPih"
   },
   "outputs": [],
   "source": [
    "#foram retiradas as chaves para acessar o twitter"
   ]
  },
  {
   "cell_type": "code",
   "execution_count": null,
   "metadata": {
    "id": "iZq9YciTN6GJ"
   },
   "outputs": [],
   "source": [
    "auth = tw.OAuthHandler(consumer_key, consumer_secret)"
   ]
  },
  {
   "cell_type": "code",
   "execution_count": null,
   "metadata": {
    "id": "mXzq4k6OOnj3"
   },
   "outputs": [],
   "source": [
    "auth.set_access_token(access_token, access_token_secret)"
   ]
  },
  {
   "cell_type": "code",
   "execution_count": null,
   "metadata": {
    "id": "VjpUcCDGOw04"
   },
   "outputs": [],
   "source": [
    "api = tw.API(auth)"
   ]
  },
  {
   "cell_type": "code",
   "execution_count": null,
   "metadata": {
    "id": "blOT5oPMO37E"
   },
   "outputs": [],
   "source": [
    "# tweet = api.update_status('Python e Twitter na #Alura')"
   ]
  },
  {
   "cell_type": "code",
   "execution_count": null,
   "metadata": {
    "id": "3jo4YYY4PCKL"
   },
   "outputs": [],
   "source": []
  },
  {
   "cell_type": "markdown",
   "metadata": {
    "id": "fvemH6zA-0KO"
   },
   "source": [
    "Pesquisando tweets"
   ]
  },
  {
   "cell_type": "code",
   "execution_count": null,
   "metadata": {
    "id": "eLAnQDpi-tbH"
   },
   "outputs": [],
   "source": [
    "tweets =tw.Cursor(api.search,\n",
    "          q=\"python\",\n",
    "          since = '2019-01-01',\n",
    "          lang = 'pt').items(10)"
   ]
  },
  {
   "cell_type": "code",
   "execution_count": null,
   "metadata": {
    "id": "8v8IWV4gGgi3"
   },
   "outputs": [],
   "source": []
  },
  {
   "cell_type": "code",
   "execution_count": null,
   "metadata": {
    "colab": {
     "base_uri": "https://localhost:8080/"
    },
    "id": "TUicqBOY_H_r",
    "outputId": "38f54640-e3d4-4127-ac31-591e7b63ba74"
   },
   "outputs": [
    {
     "name": "stdout",
     "output_type": "stream",
     "text": [
      "guirisouza\n",
      "\n",
      "----\n",
      "\n",
      "\n",
      "joanamaffi\n",
      "Sao Paulo, Brazil\n",
      "----\n",
      "\n",
      "\n",
      "xaconha\n",
      "Rio de Janeiro, Brazil\n",
      "----\n",
      "\n",
      "\n",
      "EvntHorizonn\n",
      "Campinas, São Paulo\n",
      "----\n",
      "\n",
      "\n",
      "Nickdelic_\n",
      "ᶠᶸᶜᵏᵧₒᵤ  !!!\n",
      "----\n",
      "\n",
      "\n",
      "julios_melo\n",
      "Earth \n",
      "----\n",
      "\n",
      "\n",
      "tadeu_fo\n",
      "Brasil\n",
      "----\n",
      "\n",
      "\n",
      "ryanansi_\n",
      "\n",
      "----\n",
      "\n",
      "\n",
      "dunossauro\n",
      "Brasil\n",
      "----\n",
      "\n",
      "\n",
      "_SmiiS\n",
      "\n",
      "----\n",
      "\n",
      "\n"
     ]
    }
   ],
   "source": [
    "for tweet in tweets:\n",
    "  print(tweet.user.screen_name)\n",
    "  print(tweet.user.location)\n",
    "  print('----')\n",
    "  print('\\n')\n"
   ]
  },
  {
   "cell_type": "code",
   "execution_count": null,
   "metadata": {
    "colab": {
     "base_uri": "https://localhost:8080/"
    },
    "id": "1xZOLAk252zX",
    "outputId": "ba5c24c3-d799-40fb-cec5-f4ecdd808970"
   },
   "outputs": [
    {
     "data": {
      "text/plain": [
       "{'contributors': None,\n",
       " 'coordinates': None,\n",
       " 'created_at': 'Tue Apr 19 16:59:00 +0000 2022',\n",
       " 'entities': {'hashtags': [], 'symbols': [], 'urls': [], 'user_mentions': []},\n",
       " 'favorite_count': 0,\n",
       " 'favorited': False,\n",
       " 'geo': None,\n",
       " 'id': 1516461371403259904,\n",
       " 'id_str': '1516461371403259904',\n",
       " 'in_reply_to_screen_name': None,\n",
       " 'in_reply_to_status_id': None,\n",
       " 'in_reply_to_status_id_str': None,\n",
       " 'in_reply_to_user_id': None,\n",
       " 'in_reply_to_user_id_str': None,\n",
       " 'is_quote_status': False,\n",
       " 'lang': 'pt',\n",
       " 'metadata': {'iso_language_code': 'pt', 'result_type': 'recent'},\n",
       " 'place': None,\n",
       " 'retweet_count': 0,\n",
       " 'retweeted': False,\n",
       " 'source': '<a href=\"http://twitter.com/download/android\" rel=\"nofollow\">Twitter for Android</a>',\n",
       " 'text': 'Muito doido que tudo começou quando escutei falar de python e mesmo não seguindo os estudos, justo agora eu volto pra ele',\n",
       " 'truncated': False,\n",
       " 'user': {'contributors_enabled': False,\n",
       "  'created_at': 'Sat Apr 12 22:39:04 +0000 2014',\n",
       "  'default_profile': False,\n",
       "  'default_profile_image': False,\n",
       "  'description': 'A cerveja é sempre na mão',\n",
       "  'entities': {'description': {'urls': []}},\n",
       "  'favourites_count': 8199,\n",
       "  'follow_request_sent': False,\n",
       "  'followers_count': 995,\n",
       "  'following': False,\n",
       "  'friends_count': 933,\n",
       "  'geo_enabled': True,\n",
       "  'has_extended_profile': True,\n",
       "  'id': 2479991579,\n",
       "  'id_str': '2479991579',\n",
       "  'is_translation_enabled': False,\n",
       "  'is_translator': False,\n",
       "  'lang': None,\n",
       "  'listed_count': 1,\n",
       "  'location': '',\n",
       "  'name': 'm',\n",
       "  'notifications': False,\n",
       "  'profile_background_color': '131516',\n",
       "  'profile_background_image_url': 'http://abs.twimg.com/images/themes/theme14/bg.gif',\n",
       "  'profile_background_image_url_https': 'https://abs.twimg.com/images/themes/theme14/bg.gif',\n",
       "  'profile_background_tile': True,\n",
       "  'profile_banner_url': 'https://pbs.twimg.com/profile_banners/2479991579/1600914818',\n",
       "  'profile_image_url': 'http://pbs.twimg.com/profile_images/1472572049235324928/yg2q2JUG_normal.jpg',\n",
       "  'profile_image_url_https': 'https://pbs.twimg.com/profile_images/1472572049235324928/yg2q2JUG_normal.jpg',\n",
       "  'profile_link_color': '009999',\n",
       "  'profile_sidebar_border_color': 'EEEEEE',\n",
       "  'profile_sidebar_fill_color': 'EFEFEF',\n",
       "  'profile_text_color': '333333',\n",
       "  'profile_use_background_image': True,\n",
       "  'protected': False,\n",
       "  'screen_name': '_SmiiS',\n",
       "  'statuses_count': 18502,\n",
       "  'time_zone': None,\n",
       "  'translator_type': 'none',\n",
       "  'url': None,\n",
       "  'utc_offset': None,\n",
       "  'verified': False,\n",
       "  'withheld_in_countries': []}}"
      ]
     },
     "execution_count": 15,
     "metadata": {},
     "output_type": "execute_result"
    }
   ],
   "source": [
    "tweet._json"
   ]
  },
  {
   "cell_type": "code",
   "execution_count": null,
   "metadata": {
    "id": "sH8PmUIs_M5n"
   },
   "outputs": [],
   "source": [
    "famosos = ['cauareymond','aguiarthur','ivetesangalo','ClaudiaLeitte','neymarjr','BruMarquezine','mariruybarbosa',\n",
    "'FePaesLeme','Tatawerneck','FlaviaAleReal','julianapaes','dedesecco','SabrinaSato','ahickmann','gusttavo_lima','Anitta',\n",
    "'CarolCastroReal','gio_antonelli','maisa','cleooficial','gewbank','taisdeverdade','otaviano','bernardipaloma',\n",
    "'IngridGuimaraes','olazaroramos','GalisteuOficial','debranascimento','FioMattheis','moalfradique','Nandacostareal']"
   ]
  },
  {
   "cell_type": "code",
   "execution_count": null,
   "metadata": {
    "colab": {
     "base_uri": "https://localhost:8080/"
    },
    "id": "VSfDO2Zj55Fm",
    "outputId": "9d22584a-1bdb-4e08-eee4-eaeb9a433782"
   },
   "outputs": [
    {
     "data": {
      "text/plain": [
       "31"
      ]
     },
     "execution_count": 17,
     "metadata": {},
     "output_type": "execute_result"
    }
   ],
   "source": [
    "len(famosos)"
   ]
  },
  {
   "cell_type": "code",
   "execution_count": null,
   "metadata": {
    "colab": {
     "base_uri": "https://localhost:8080/"
    },
    "id": "A9HOou2oMRT1",
    "outputId": "7ddcf348-1084-4042-cbd3-b3c15fe757bb"
   },
   "outputs": [
    {
     "name": "stdout",
     "output_type": "stream",
     "text": [
      "Autor:  cauareymond\n",
      "Imagens postadas:\n",
      "http://pbs.twimg.com/media/FQLeljlXoAgr1xa.jpg\n",
      "http://pbs.twimg.com/media/FQkfhVXWUAEFzG7.jpg\n",
      "http://pbs.twimg.com/media/FQkfhVXWUAEFzG7.jpg\n",
      "http://pbs.twimg.com/media/FQkfhVXWUAEFzG7.jpg\n",
      "http://pbs.twimg.com/ext_tw_video_thumb/1515771656383438851/pu/img/uPPE-s30I3GRJq-a.jpg\n",
      "http://pbs.twimg.com/media/FQLeljlXoAgr1xa.jpg\n",
      "----\n",
      "\n",
      "\n",
      "Autor:  aguiarthur\n",
      "Imagens postadas:\n",
      "http://pbs.twimg.com/ext_tw_video_thumb/1516405208703815680/pu/img/TGO4tHqiJmzH5Yi7.jpg\n",
      "----\n",
      "\n",
      "\n",
      "Autor:  ivetesangalo\n",
      "Imagens postadas:\n",
      "http://pbs.twimg.com/media/FQqs1OcXIA4wkYI.jpg\n",
      "----\n",
      "\n",
      "\n",
      "Autor:  ClaudiaLeitte\n",
      "Imagens postadas:\n",
      "----\n",
      "\n",
      "\n",
      "Autor:  neymarjr\n",
      "Imagens postadas:\n",
      "http://pbs.twimg.com/ext_tw_video_thumb/1516454294236856320/pu/img/KxapamoytF-iAV9Q.jpg\n",
      "http://pbs.twimg.com/media/FQoJN2UWQAEeCyo.jpg\n",
      "http://pbs.twimg.com/media/FQoJN2UWQAEeCyo.jpg\n",
      "http://pbs.twimg.com/ext_tw_video_thumb/1516454294236856320/pu/img/KxapamoytF-iAV9Q.jpg\n",
      "http://pbs.twimg.com/media/FQoJN2UWQAEeCyo.jpg\n",
      "http://pbs.twimg.com/ext_tw_video_thumb/1516454294236856320/pu/img/KxapamoytF-iAV9Q.jpg\n",
      "http://pbs.twimg.com/ext_tw_video_thumb/1516454294236856320/pu/img/KxapamoytF-iAV9Q.jpg\n",
      "----\n",
      "\n",
      "\n",
      "Autor:  BruMarquezine\n",
      "Imagens postadas:\n",
      "http://pbs.twimg.com/media/FQuWw_ZX0AUBfxj.jpg\n",
      "http://pbs.twimg.com/media/FQuCcYZXsAQzTsh.jpg\n",
      "http://pbs.twimg.com/media/FQuCcYZXsAQzTsh.jpg\n",
      "http://pbs.twimg.com/media/FQtS3TQXwAEHm8x.jpg\n",
      "http://pbs.twimg.com/media/FQt8CnPWUAoWupT.jpg\n",
      "http://pbs.twimg.com/media/FQuRn7DWYAE7yIj.jpg\n",
      "http://pbs.twimg.com/media/FQuR1oBXIAMfjXW.jpg\n",
      "http://pbs.twimg.com/media/FQuR1oBXIAMfjXW.jpg\n",
      "http://pbs.twimg.com/media/FQuRn7DWYAE7yIj.jpg\n",
      "http://pbs.twimg.com/media/FQpOnZxXsA0nOQy.jpg\n",
      "----\n",
      "\n",
      "\n",
      "Autor:  mariruybarbosa\n",
      "Imagens postadas:\n",
      "http://pbs.twimg.com/amplify_video_thumb/1515799667820351496/img/laQxG-bi1r4TD_qv.jpg\n",
      "http://pbs.twimg.com/media/FQttSW3XsAEsH7H.jpg\n",
      "http://pbs.twimg.com/media/FQttSW3XsAEsH7H.jpg\n",
      "----\n",
      "\n",
      "\n",
      "Autor:  FePaesLeme\n",
      "Imagens postadas:\n",
      "----\n",
      "\n",
      "\n",
      "Autor:  Tatawerneck\n",
      "Imagens postadas:\n",
      "http://pbs.twimg.com/media/FQeXENwXEAgPxc7.jpg\n",
      "http://pbs.twimg.com/media/FQeXENwXEAgPxc7.jpg\n",
      "http://pbs.twimg.com/media/FQuAaXqX0AUswG8.jpg\n",
      "----\n",
      "\n",
      "\n",
      "Autor:  FlaviaAleReal\n",
      "Imagens postadas:\n",
      "http://pbs.twimg.com/tweet_video_thumb/FQuSvTAWYAw6Dtu.jpg\n",
      "----\n",
      "\n",
      "\n",
      "Autor:  julianapaes\n",
      "Imagens postadas:\n",
      "http://pbs.twimg.com/media/FQuSE6NXoAkyOkU.jpg\n",
      "http://pbs.twimg.com/tweet_video_thumb/FQuVVW2WUA43IwJ.jpg\n",
      "http://pbs.twimg.com/media/FQuSE6NXoAkyOkU.jpg\n",
      "http://pbs.twimg.com/tweet_video_thumb/FQuUa_QWQAgW_gb.jpg\n",
      "http://pbs.twimg.com/media/FQuSE6NXoAkyOkU.jpg\n",
      "----\n",
      "\n",
      "\n",
      "Autor:  dedesecco\n",
      "Imagens postadas:\n",
      "----\n",
      "\n",
      "\n",
      "Autor:  SabrinaSato\n",
      "Imagens postadas:\n",
      "http://pbs.twimg.com/media/FQrF316WYAQO1_Y.jpg\n",
      "http://pbs.twimg.com/media/FQrF316WYAQO1_Y.jpg\n",
      "----\n",
      "\n",
      "\n",
      "Autor:  ahickmann\n",
      "Imagens postadas:\n",
      "----\n",
      "\n",
      "\n",
      "Autor:  gusttavo_lima\n",
      "Imagens postadas:\n",
      "----\n",
      "\n",
      "\n",
      "Autor:  Anitta\n",
      "Imagens postadas:\n",
      "http://pbs.twimg.com/media/FQt-vbpX0AYvuoi.jpg\n",
      "http://pbs.twimg.com/tweet_video_thumb/FQuXRQwX0AIbs81.jpg\n",
      "http://pbs.twimg.com/media/FQtJ2QaWYAcafdj.jpg\n",
      "----\n",
      "\n",
      "\n",
      "Autor:  CarolCastroReal\n",
      "Imagens postadas:\n",
      "----\n",
      "\n",
      "\n",
      "Autor:  gio_antonelli\n",
      "Imagens postadas:\n",
      "http://pbs.twimg.com/ext_tw_video_thumb/1516461369004015626/pu/img/n1O1cLTpC1S1M35h.jpg\n",
      "http://pbs.twimg.com/ext_tw_video_thumb/1516461369004015626/pu/img/n1O1cLTpC1S1M35h.jpg\n",
      "http://pbs.twimg.com/ext_tw_video_thumb/1516461369004015626/pu/img/n1O1cLTpC1S1M35h.jpg\n",
      "http://pbs.twimg.com/media/FQrN4kvWQAAwL1D.jpg\n",
      "http://pbs.twimg.com/media/FQrN4kvWQAAwL1D.jpg\n",
      "http://pbs.twimg.com/media/FQrRSjbXMAM324s.jpg\n",
      "http://pbs.twimg.com/media/FQrOrZeXwAozuP5.jpg\n",
      "http://pbs.twimg.com/media/FQrN4kvWQAAwL1D.jpg\n",
      "----\n",
      "\n",
      "\n",
      "Autor:  maisa\n",
      "Imagens postadas:\n",
      "http://pbs.twimg.com/media/FQuSFgZX0AMClQG.jpg\n",
      "http://pbs.twimg.com/media/FQuWNWUXIAUUZJB.jpg\n",
      "http://pbs.twimg.com/media/FQuVzwAWQAkb9Po.jpg\n",
      "http://pbs.twimg.com/ext_tw_video_thumb/1516216200707153924/pu/img/Djb4UvvexyGn9aaP.jpg\n",
      "http://pbs.twimg.com/media/FQuSFgZX0AMClQG.jpg\n",
      "----\n",
      "\n",
      "\n",
      "Autor:  cleooficial\n",
      "Imagens postadas:\n",
      "http://pbs.twimg.com/media/FQOoKMKXoAcxm4J.jpg\n",
      "----\n",
      "\n",
      "\n",
      "Autor:  gewbank\n",
      "Imagens postadas:\n",
      "----\n",
      "\n",
      "\n",
      "Autor:  taisdeverdade\n",
      "Imagens postadas:\n",
      "http://pbs.twimg.com/media/FQuBJk_XwAMzqdV.jpg\n",
      "http://pbs.twimg.com/media/FQtx2S6WYAE5Jwb.png\n",
      "----\n",
      "\n",
      "\n",
      "Autor:  otaviano\n",
      "Imagens postadas:\n",
      "http://pbs.twimg.com/amplify_video_thumb/1516442187948597263/img/zTja3GeUxSRT8wGp.jpg\n",
      "----\n",
      "\n",
      "\n",
      "Autor:  bernardipaloma\n",
      "Imagens postadas:\n",
      "http://pbs.twimg.com/ext_tw_video_thumb/1515683927649832968/pu/img/PTkbPkxkGVTV9JkZ.jpg\n",
      "http://pbs.twimg.com/ext_tw_video_thumb/1516231185445306376/pu/img/TLuJN0v215mkoSpo.jpg\n",
      "http://pbs.twimg.com/ext_tw_video_thumb/1516231185445306376/pu/img/TLuJN0v215mkoSpo.jpg\n",
      "http://pbs.twimg.com/ext_tw_video_thumb/1516231185445306376/pu/img/TLuJN0v215mkoSpo.jpg\n",
      "http://pbs.twimg.com/media/FQG3SygWUAE0tQS.jpg\n",
      "http://pbs.twimg.com/ext_tw_video_thumb/1446853352562778113/pu/img/9Bt2FsO_5OuzbfaI.jpg\n",
      "http://pbs.twimg.com/ext_tw_video_thumb/1515683927649832968/pu/img/PTkbPkxkGVTV9JkZ.jpg\n",
      "http://pbs.twimg.com/ext_tw_video_thumb/1515683927649832968/pu/img/PTkbPkxkGVTV9JkZ.jpg\n",
      "http://pbs.twimg.com/ext_tw_video_thumb/1515683927649832968/pu/img/PTkbPkxkGVTV9JkZ.jpg\n",
      "http://pbs.twimg.com/ext_tw_video_thumb/1515683927649832968/pu/img/PTkbPkxkGVTV9JkZ.jpg\n",
      "----\n",
      "\n",
      "\n",
      "Autor:  IngridGuimaraes\n",
      "Imagens postadas:\n",
      "http://pbs.twimg.com/ext_tw_video_thumb/1516451649392422921/pu/img/c4mnYQI2Jj1RNINa.jpg\n",
      "----\n",
      "\n",
      "\n",
      "Autor:  olazaroramos\n",
      "Imagens postadas:\n",
      "http://pbs.twimg.com/ext_tw_video_thumb/1516451649392422921/pu/img/c4mnYQI2Jj1RNINa.jpg\n",
      "----\n",
      "\n",
      "\n",
      "Autor:  GalisteuOficial\n",
      "Imagens postadas:\n",
      "http://pbs.twimg.com/tweet_video_thumb/FQuUcINXsAQxs04.jpg\n",
      "----\n",
      "\n",
      "\n",
      "Autor:  debranascimento\n",
      "Imagens postadas:\n",
      "----\n",
      "\n",
      "\n",
      "Autor:  FioMattheis\n",
      "Imagens postadas:\n",
      "----\n",
      "\n",
      "\n",
      "Autor:  moalfradique\n",
      "Imagens postadas:\n",
      "----\n",
      "\n",
      "\n",
      "Autor:  Nandacostareal\n",
      "Imagens postadas:\n",
      "----\n",
      "\n",
      "\n"
     ]
    }
   ],
   "source": [
    "for famoso in famosos:\n",
    "  tweets =tw.Cursor(api.search,\n",
    "            q=famoso,\n",
    "            since = '2019-01-01',\n",
    "            lang = 'pt').items(20)\n",
    "  print('Autor: ', famoso)\n",
    "  print('Imagens postadas:')\n",
    "\n",
    "  for tweet in tweets:\n",
    "    if 'media' in tweet.entities:\n",
    "      print(tweet.entities['media'][0]['media_url'])\n",
    "  \n",
    "  print('----')\n",
    "  print('\\n')"
   ]
  },
  {
   "cell_type": "markdown",
   "metadata": {
    "id": "8yk0kyylNvq7"
   },
   "source": [
    "# Straming"
   ]
  },
  {
   "cell_type": "code",
   "execution_count": null,
   "metadata": {
    "id": "VlIL1mtSOEW_"
   },
   "outputs": [],
   "source": [
    "class MinhaStreamListener(tw.StreamListener):\n",
    "\n",
    "  def on_status(self, status):\n",
    "    print(status.user.screen_name)\n",
    "    print(status.text)\n",
    "    print('----')\n",
    "    print('\\n')\n",
    "\n"
   ]
  },
  {
   "cell_type": "code",
   "execution_count": null,
   "metadata": {
    "id": "nGGnX-CDNHUZ"
   },
   "outputs": [],
   "source": [
    "minhaStream = tw.Stream (auth = auth, listener =MinhaStreamListener() )"
   ]
  },
  {
   "cell_type": "code",
   "execution_count": null,
   "metadata": {
    "id": "vSQqqcf4Oqbu"
   },
   "outputs": [],
   "source": [
    "# minhaStream.filter(track=famosos)"
   ]
  },
  {
   "cell_type": "code",
   "execution_count": null,
   "metadata": {
    "colab": {
     "base_uri": "https://localhost:8080/"
    },
    "id": "g0UkerEjO1Cg",
    "outputId": "46cc9157-86d7-44af-d5a1-8031fe5fe442"
   },
   "outputs": [
    {
     "name": "stdout",
     "output_type": "stream",
     "text": [
      "Collecting azure-cognitiveservices-vision-computervision\n",
      "  Downloading azure_cognitiveservices_vision_computervision-0.9.0-py2.py3-none-any.whl (39 kB)\n",
      "Collecting msrest>=0.5.0\n",
      "  Downloading msrest-0.6.21-py2.py3-none-any.whl (85 kB)\n",
      "\u001b[K     |████████████████████████████████| 85 kB 2.4 MB/s \n",
      "\u001b[?25hCollecting azure-common~=1.1\n",
      "  Downloading azure_common-1.1.28-py2.py3-none-any.whl (14 kB)\n",
      "Requirement already satisfied: requests~=2.16 in /usr/local/lib/python3.7/dist-packages (from msrest>=0.5.0->azure-cognitiveservices-vision-computervision) (2.23.0)\n",
      "Collecting isodate>=0.6.0\n",
      "  Downloading isodate-0.6.1-py2.py3-none-any.whl (41 kB)\n",
      "\u001b[K     |████████████████████████████████| 41 kB 402 kB/s \n",
      "\u001b[?25hRequirement already satisfied: certifi>=2017.4.17 in /usr/local/lib/python3.7/dist-packages (from msrest>=0.5.0->azure-cognitiveservices-vision-computervision) (2021.10.8)\n",
      "Requirement already satisfied: requests-oauthlib>=0.5.0 in /usr/local/lib/python3.7/dist-packages (from msrest>=0.5.0->azure-cognitiveservices-vision-computervision) (1.3.1)\n",
      "Requirement already satisfied: six in /usr/local/lib/python3.7/dist-packages (from isodate>=0.6.0->msrest>=0.5.0->azure-cognitiveservices-vision-computervision) (1.15.0)\n",
      "Requirement already satisfied: idna<3,>=2.5 in /usr/local/lib/python3.7/dist-packages (from requests~=2.16->msrest>=0.5.0->azure-cognitiveservices-vision-computervision) (2.10)\n",
      "Requirement already satisfied: urllib3!=1.25.0,!=1.25.1,<1.26,>=1.21.1 in /usr/local/lib/python3.7/dist-packages (from requests~=2.16->msrest>=0.5.0->azure-cognitiveservices-vision-computervision) (1.24.3)\n",
      "Requirement already satisfied: chardet<4,>=3.0.2 in /usr/local/lib/python3.7/dist-packages (from requests~=2.16->msrest>=0.5.0->azure-cognitiveservices-vision-computervision) (3.0.4)\n",
      "Requirement already satisfied: oauthlib>=3.0.0 in /usr/local/lib/python3.7/dist-packages (from requests-oauthlib>=0.5.0->msrest>=0.5.0->azure-cognitiveservices-vision-computervision) (3.2.0)\n",
      "Installing collected packages: isodate, msrest, azure-common, azure-cognitiveservices-vision-computervision\n",
      "Successfully installed azure-cognitiveservices-vision-computervision-0.9.0 azure-common-1.1.28 isodate-0.6.1 msrest-0.6.21\n"
     ]
    }
   ],
   "source": [
    "!pip install azure-cognitiveservices-vision-computervision"
   ]
  },
  {
   "cell_type": "code",
   "execution_count": null,
   "metadata": {
    "colab": {
     "base_uri": "https://localhost:8080/"
    },
    "id": "zCttYgf_TFcx",
    "outputId": "bfdf6811-a7de-4945-e7d6-4c2dbf150e6d"
   },
   "outputs": [
    {
     "name": "stdout",
     "output_type": "stream",
     "text": [
      "Requirement already satisfied: azure-cognitiveservices-vision-computervision in /usr/local/lib/python3.7/dist-packages (0.9.0)\n",
      "Requirement already satisfied: azure-common~=1.1 in /usr/local/lib/python3.7/dist-packages (from azure-cognitiveservices-vision-computervision) (1.1.28)\n",
      "Requirement already satisfied: msrest>=0.5.0 in /usr/local/lib/python3.7/dist-packages (from azure-cognitiveservices-vision-computervision) (0.6.21)\n",
      "Requirement already satisfied: certifi>=2017.4.17 in /usr/local/lib/python3.7/dist-packages (from msrest>=0.5.0->azure-cognitiveservices-vision-computervision) (2021.10.8)\n",
      "Requirement already satisfied: isodate>=0.6.0 in /usr/local/lib/python3.7/dist-packages (from msrest>=0.5.0->azure-cognitiveservices-vision-computervision) (0.6.1)\n",
      "Requirement already satisfied: requests~=2.16 in /usr/local/lib/python3.7/dist-packages (from msrest>=0.5.0->azure-cognitiveservices-vision-computervision) (2.23.0)\n",
      "Requirement already satisfied: requests-oauthlib>=0.5.0 in /usr/local/lib/python3.7/dist-packages (from msrest>=0.5.0->azure-cognitiveservices-vision-computervision) (1.3.1)\n",
      "Requirement already satisfied: six in /usr/local/lib/python3.7/dist-packages (from isodate>=0.6.0->msrest>=0.5.0->azure-cognitiveservices-vision-computervision) (1.15.0)\n",
      "Requirement already satisfied: chardet<4,>=3.0.2 in /usr/local/lib/python3.7/dist-packages (from requests~=2.16->msrest>=0.5.0->azure-cognitiveservices-vision-computervision) (3.0.4)\n",
      "Requirement already satisfied: idna<3,>=2.5 in /usr/local/lib/python3.7/dist-packages (from requests~=2.16->msrest>=0.5.0->azure-cognitiveservices-vision-computervision) (2.10)\n",
      "Requirement already satisfied: urllib3!=1.25.0,!=1.25.1,<1.26,>=1.21.1 in /usr/local/lib/python3.7/dist-packages (from requests~=2.16->msrest>=0.5.0->azure-cognitiveservices-vision-computervision) (1.24.3)\n",
      "Requirement already satisfied: oauthlib>=3.0.0 in /usr/local/lib/python3.7/dist-packages (from requests-oauthlib>=0.5.0->msrest>=0.5.0->azure-cognitiveservices-vision-computervision) (3.2.0)\n"
     ]
    }
   ],
   "source": [
    "from azure.cognitiveservices.vision.computervision import ComputerVisionClient\n",
    "from msrest.authentication import CognitiveServicesCredentials\n",
    "!pip install --upgrade azure-cognitiveservices-vision-computervision"
   ]
  },
  {
   "cell_type": "code",
   "execution_count": null,
   "metadata": {
    "id": "MNzTCI1ITK8_"
   },
   "outputs": [],
   "source": []
  },
  {
   "cell_type": "code",
   "execution_count": null,
   "metadata": {
    "id": "-vlhXmJ5dOLW"
   },
   "outputs": [],
   "source": []
  },
  {
   "cell_type": "code",
   "execution_count": null,
   "metadata": {
    "colab": {
     "base_uri": "https://localhost:8080/",
     "height": 35
    },
    "id": "sGTu6Z6hdd26",
    "outputId": "68f236f7-eae6-4571-857d-77f99668c1fb"
   },
   "outputs": [
    {
     "data": {
      "application/vnd.google.colaboratory.intrinsic+json": {
       "type": "string"
      },
      "text/plain": [
       "'3.2'"
      ]
     },
     "execution_count": 40,
     "metadata": {},
     "output_type": "execute_result"
    }
   ],
   "source": [
    "client.api_version"
   ]
  },
  {
   "cell_type": "markdown",
   "metadata": {
    "id": "xyhqB3mf6M_Y"
   },
   "source": [
    "![](https://pbs.twimg.com/media/FQtx2S6WYAE5Jwb.png)"
   ]
  },
  {
   "cell_type": "code",
   "execution_count": null,
   "metadata": {
    "id": "N5gdoclX9quu"
   },
   "outputs": [],
   "source": [
    "from azure.cognitiveservices.vision.computervision.models import VisualFeatureTypes\n",
    "\n",
    "url = \"https://pbs.twimg.com/media/FQtx2S6WYAE5Jwb.png\"\n",
    "\n",
    "# Usando [ ], pois o parâmetro visual_features recebe uma lista\n",
    "analise_de_imagem = client.analyze_image(url, visual_features = [VisualFeatureTypes.tags])"
   ]
  },
  {
   "cell_type": "code",
   "execution_count": null,
   "metadata": {
    "colab": {
     "base_uri": "https://localhost:8080/"
    },
    "id": "6D5MQvsRdf0C",
    "outputId": "8f209508-d9f2-4d7b-d05e-5d216d743909"
   },
   "outputs": [
    {
     "name": "stdout",
     "output_type": "stream",
     "text": [
      "{'additional_properties': {}, 'name': 'text', 'confidence': 0.9999802112579346, 'hint': None}\n",
      "{'additional_properties': {}, 'name': 'human face', 'confidence': 0.99309241771698, 'hint': None}\n",
      "{'additional_properties': {}, 'name': 'clothing', 'confidence': 0.9873502850532532, 'hint': None}\n",
      "{'additional_properties': {}, 'name': 'poster', 'confidence': 0.9728480577468872, 'hint': None}\n",
      "{'additional_properties': {}, 'name': 'man', 'confidence': 0.970923662185669, 'hint': None}\n",
      "{'additional_properties': {}, 'name': 'woman', 'confidence': 0.9546648263931274, 'hint': None}\n",
      "{'additional_properties': {}, 'name': 'screenshot', 'confidence': 0.87204909324646, 'hint': None}\n",
      "{'additional_properties': {}, 'name': 'action film', 'confidence': 0.8617827892303467, 'hint': None}\n",
      "{'additional_properties': {}, 'name': 'flyer', 'confidence': 0.861707329750061, 'hint': None}\n",
      "{'additional_properties': {}, 'name': 'person', 'confidence': 0.8023946285247803, 'hint': None}\n"
     ]
    }
   ],
   "source": [
    "for tag in analise_de_imagem.tags:\n",
    "  print(tag)"
   ]
  },
  {
   "cell_type": "code",
   "execution_count": null,
   "metadata": {
    "id": "n_OaC5SvADan"
   },
   "outputs": [],
   "source": [
    "analise_celebridades = client.analyze_image_by_domain('celebrities', url, 'en')"
   ]
  },
  {
   "cell_type": "code",
   "execution_count": null,
   "metadata": {
    "colab": {
     "base_uri": "https://localhost:8080/"
    },
    "id": "w8ZbKunTA9r6",
    "outputId": "0c618f23-a5cd-47c9-9f2c-8bc23c42bc8e"
   },
   "outputs": [
    {
     "name": "stdout",
     "output_type": "stream",
     "text": [
      "Tais Araujo\n",
      "0.9332654476165771\n"
     ]
    }
   ],
   "source": [
    "for celebridades in analise_celebridades.result['celebrities']:\n",
    "  print(celebridades['name'])\n",
    "  print(celebridades['confidence'])"
   ]
  },
  {
   "cell_type": "code",
   "execution_count": null,
   "metadata": {
    "colab": {
     "base_uri": "https://localhost:8080/"
    },
    "id": "fYNTWSh9BQNk",
    "outputId": "0f06f4ae-020f-4f52-ce91-a7ff94be46be"
   },
   "outputs": [
    {
     "data": {
      "text/plain": [
       "[{'confidence': 0.9332654476165771,\n",
       "  'faceRectangle': {'height': 67, 'left': 294, 'top': 420, 'width': 67},\n",
       "  'name': 'Tais Araujo'}]"
      ]
     },
     "execution_count": 54,
     "metadata": {},
     "output_type": "execute_result"
    }
   ],
   "source": [
    "analise_celebridades.result['celebrities']"
   ]
  },
  {
   "cell_type": "code",
   "execution_count": null,
   "metadata": {
    "id": "6iZnr5LqBUs4"
   },
   "outputs": [],
   "source": [
    "descricao = client.describe_image(url,3,'en')"
   ]
  },
  {
   "cell_type": "code",
   "execution_count": null,
   "metadata": {
    "colab": {
     "base_uri": "https://localhost:8080/"
    },
    "id": "MUzFlL3cB0o4",
    "outputId": "be558e41-1963-4c8f-d1a7-fb7d53aff901"
   },
   "outputs": [
    {
     "name": "stdout",
     "output_type": "stream",
     "text": [
      "Tais Araujo et al. in clothing\n",
      "0.5236272811889648\n"
     ]
    }
   ],
   "source": [
    "for caption in descricao.captions:\n",
    "  print(caption.text)\n",
    "  print(caption.confidence)"
   ]
  },
  {
   "cell_type": "code",
   "execution_count": null,
   "metadata": {
    "id": "VSUv_qbZDSgx"
   },
   "outputs": [],
   "source": [
    "descricao.captions[0].text"
   ]
  },
  {
   "cell_type": "markdown",
   "metadata": {
    "id": "HF1NTkrWCXxK"
   },
   "source": [
    "# Streaming + Vision API"
   ]
  },
  {
   "cell_type": "code",
   "execution_count": null,
   "metadata": {
    "colab": {
     "base_uri": "https://localhost:8080/",
     "height": 35
    },
    "id": "O4sxZ3SxHfTq",
    "outputId": "848f1e6d-7d84-470b-ba1b-24323d1ba210"
   },
   "outputs": [
    {
     "data": {
      "application/vnd.google.colaboratory.intrinsic+json": {
       "type": "string"
      },
      "text/plain": [
       "'211407985'"
      ]
     },
     "execution_count": 76,
     "metadata": {},
     "output_type": "execute_result"
    }
   ],
   "source": [
    "api.get_user('Renan_Grunge').id_str"
   ]
  },
  {
   "cell_type": "code",
   "execution_count": null,
   "metadata": {
    "colab": {
     "base_uri": "https://localhost:8080/"
    },
    "id": "TAEpxKq6HztM",
    "outputId": "6664507e-0240-4422-8389-9d9d84e24493"
   },
   "outputs": [
    {
     "name": "stdout",
     "output_type": "stream",
     "text": [
      "cauareymond\n",
      "aguiarthur\n",
      "ivetesangalo\n",
      "ClaudiaLeitte\n",
      "neymarjr\n",
      "BruMarquezine\n",
      "mariruybarbosa\n",
      "FePaesLeme\n",
      "Tatawerneck\n",
      "FlaviaAleReal\n",
      "julianapaes\n",
      "dedesecco\n",
      "SabrinaSato\n",
      "ahickmann\n",
      "gusttavo_lima\n",
      "Anitta\n",
      "CarolCastroReal\n",
      "gio_antonelli\n",
      "maisa\n"
     ]
    }
   ],
   "source": [
    "famosos_id = []\n",
    "\n",
    "for famoso in famosos:\n",
    "  famoso_id = api.get_user(famoso).id_str\n",
    "  print(famoso)\n",
    "  famosos_id.append(famoso_id)\n",
    "  if famoso == 'maisa':\n",
    "    break"
   ]
  },
  {
   "cell_type": "code",
   "execution_count": null,
   "metadata": {
    "colab": {
     "base_uri": "https://localhost:8080/"
    },
    "id": "YQaYbe59IL0p",
    "outputId": "a27efc01-8296-48bf-ac45-fab5dde35d78"
   },
   "outputs": [
    {
     "data": {
      "text/plain": [
       "['246591347',\n",
       " '72131142',\n",
       " '14502789',\n",
       " '48332360',\n",
       " '158487331',\n",
       " '58603510',\n",
       " '125432895',\n",
       " '50821343',\n",
       " '62557485',\n",
       " '510877109',\n",
       " '56482694',\n",
       " '136140018',\n",
       " '34171224',\n",
       " '43394391',\n",
       " '126676337',\n",
       " '141817380',\n",
       " '90052937',\n",
       " '142448465',\n",
       " '2203709322']"
      ]
     },
     "execution_count": 80,
     "metadata": {},
     "output_type": "execute_result"
    }
   ],
   "source": [
    "famosos_id"
   ]
  },
  {
   "cell_type": "code",
   "execution_count": null,
   "metadata": {
    "id": "dZ_0ZYYpKm2s"
   },
   "outputs": [],
   "source": []
  },
  {
   "cell_type": "code",
   "execution_count": null,
   "metadata": {
    "id": "fURuJIaYKm9B"
   },
   "outputs": [],
   "source": [
    "import json"
   ]
  },
  {
   "cell_type": "code",
   "execution_count": null,
   "metadata": {
    "id": "LeXd8g69B2Ms"
   },
   "outputs": [],
   "source": [
    "class MinhaStreamListener(tw.StreamListener):\n",
    "\n",
    "  def on_status(self, status):\n",
    "    print(\"Usuário:\" , status.user.screen_name)\n",
    "    print(\"Texto:\" ,status.text)\n",
    "\n",
    "    if 'media' in status.entities:\n",
    "      url = status.entities['media'][0]['media_url']\n",
    "      print(\"URL:\", url)\n",
    "\n",
    "      analise_celebridades = client.analyze_image_by_domain('celebrities', url, 'en')\n",
    "      lista_celebridades = [celebridades['name'] for celebridades in analise_celebridades.result['celebrities']]\n",
    "      print(lista_celebridades)\n",
    "\n",
    "      descricao = client.describe_image(url,1,'en')\n",
    "      texto_descricao = descricao.captions[0].text\n",
    "      print(\"Descricao:\" , texto_descricao)\n",
    "\n",
    "      analise_de_imagem = client.analyze_image(url, visual_features = [VisualFeatureTypes.tags])\n",
    "      lista_tags= [tag.name for tag in analise_de_imagem.tags]\n",
    "      print('Tag:' , lista_tags)\n",
    "\n",
    "      resultados = {\n",
    "          \"usuário\":  status.user.screen_name,\n",
    "          \"Texto\" : status.text,\n",
    "          \"url\" : url,\n",
    "          \"celebridades\" : lista_celebridades,\n",
    "          \"descricao\" :  texto_descricao,\n",
    "          \"tags\": lista_tags\n",
    "      }\n",
    "\n",
    "      with open('tweets.txt', 'a') as arquivo:\n",
    "        arquivo.write(json.dumps(resultados))\n",
    "        arquivo.write('\\n')\n",
    "\n",
    "    print('----')\n",
    "    print('\\n')"
   ]
  },
  {
   "cell_type": "code",
   "execution_count": null,
   "metadata": {
    "id": "vQmnWhsWESkY"
   },
   "outputs": [],
   "source": [
    "minhaStream = None"
   ]
  },
  {
   "cell_type": "code",
   "execution_count": null,
   "metadata": {
    "id": "JL3Rd9deCge4"
   },
   "outputs": [],
   "source": [
    "minhaStream = tw.Stream (auth = auth, listener =MinhaStreamListener() )"
   ]
  },
  {
   "cell_type": "code",
   "execution_count": null,
   "metadata": {
    "colab": {
     "base_uri": "https://localhost:8080/",
     "height": 1000
    },
    "id": "ZkO9CpHDEBx5",
    "outputId": "271b8d94-2244-4505-ec46-769daca46d6a"
   },
   "outputs": [
    {
     "name": "stdout",
     "output_type": "stream",
     "text": [
      "Usuário: marcya_porto\n",
      "Texto: @Aguiarthur 🍞🍞🍞\n",
      "----\n",
      "\n",
      "\n",
      "Usuário: NathalyAraujo02\n",
      "Texto: @Aguiarthur 🍞\n",
      "----\n",
      "\n",
      "\n",
      "Usuário: margaridassfs\n",
      "Texto: @Aguiarthur @lugramosa Teamarthur ✨🍞🩴🐇❤️😍\n",
      "----\n",
      "\n",
      "\n",
      "Usuário: kaiqueroger28\n",
      "Texto: RT @ivetesangalo: Salva ai na agenda, minha gente!!! Dia 17 de julho temos encontro marcado em Orlando, no Florida Cup Fan Fest para um sho…\n",
      "----\n",
      "\n",
      "\n",
      "Usuário: annexyyz\n",
      "Texto: @julianapaes @juliette fofa❤️\n",
      "----\n",
      "\n",
      "\n",
      "Usuário: Patthyh_\n",
      "Texto: RT @Aguiarthur: 🍞 FOLLOW TRICK DA PADARIA  🍞\n",
      "\n",
      "- RT e FAV\n",
      "- Comente o emoji 🍞\n",
      "- Siga quem deu RT e FAV nesse tweet \n",
      "- Siga quem curtir seu e…\n",
      "----\n",
      "\n",
      "\n",
      "Usuário: JPijuca\n",
      "Texto: @Anitta Valeu, Anitta! Eu ❤️ você demais! Tenho muito orgulho de você 👏🏼\n",
      "----\n",
      "\n",
      "\n",
      "Usuário: karine_arieli\n",
      "Texto: @Aguiarthur Gente se o proximo paredão for Arthur, PA e Scooby, que vocês vão escolher para eliminar entre PA e Scooby ?\n",
      "----\n",
      "\n",
      "\n",
      "Usuário: Nandaferbene\n",
      "Texto: @Aguiarthur 🍞\n",
      "----\n",
      "\n",
      "\n",
      "Usuário: OxenteEster\n",
      "Texto: @Aguiarthur 🍞\n",
      "----\n",
      "\n",
      "\n",
      "Usuário: Patthyh_\n",
      "Texto: @Aguiarthur 🍞\n",
      "----\n",
      "\n",
      "\n",
      "Usuário: rafaelahumana32\n",
      "Texto: @julianapaes @juliette ❤\n",
      "----\n",
      "\n",
      "\n",
      "Usuário: dedeiatuita\n",
      "Texto: RT @Aguiarthur: 🍞 FOLLOW TRICK DA PADARIA  🍞\n",
      "\n",
      "- RT e FAV\n",
      "- Comente o emoji 🍞\n",
      "- Siga quem deu RT e FAV nesse tweet \n",
      "- Siga quem curtir seu e…\n",
      "----\n",
      "\n",
      "\n",
      "Usuário: ArthurFtAnahi\n",
      "Texto: RT @Aguiarthur: Esqueci de postar 12h mas tô aqui hein? ✨💛 https://t.co/YlVlUx8T89\n",
      "URL: http://pbs.twimg.com/ext_tw_video_thumb/1485487741714538496/pu/img/nh-31p_rTGyBowak.jpg\n",
      "[]\n",
      "Descricao: a man looking at a blanket\n",
      "Tag: ['person', 'clothing', 'inflatable', 'boy', 'indoor', 'baby', 'child', 'Lilo']\n",
      "----\n",
      "\n",
      "\n",
      "Usuário: TacianeU\n",
      "Texto: @Aguiarthur Lembrando que só foram eliminados pq foram contra o Arthur, ngm que eu saiba gustavo não tirou ngm 🤣🍞🍞 https://t.co/nQndJ7d67n\n",
      "URL: http://pbs.twimg.com/media/FQuoHbsXsAYOXzG.jpg\n",
      "[]\n",
      "Descricao: graphical user interface, text, application, chat or text message\n",
      "Tag: ['text', 'screenshot', 'font']\n",
      "----\n",
      "\n",
      "\n",
      "Usuário: Moni_SHF\n",
      "Texto: RT @julianapaes: @juliette Aproveita essa viagem, gringa!!! 💖💖\n",
      "----\n",
      "\n",
      "\n",
      "Usuário: Fee_2227\n",
      "Texto: @julianapaes @globoplay Comecei a assistir novamente 👏👏\n",
      "----\n",
      "\n",
      "\n",
      "Usuário: AureniceJordan\n",
      "Texto: @Aguiarthur VAMOS VOTAR PADARIA #ForaGustavo #foragustavocomforca\n",
      "----\n",
      "\n",
      "\n",
      "Usuário: dedeiatuita\n",
      "Texto: @Aguiarthur 🍞🍞🍞🍞🍞🍞🍞🍞🍞🍞🍞🥖🥖🥖🥖🥖🥖🥖🥖🥖🥖🥖🥖🍞🍞🍞🍞🍞🍞🍞🍞🍞🍞🍞🍞🍞🍞\n",
      "----\n",
      "\n",
      "\n",
      "Usuário: MAYCON_limah01\n",
      "Texto: @Aguiarthur 🍞\n",
      "----\n",
      "\n",
      "\n",
      "Usuário: melissa_rosana\n",
      "Texto: @Aguiarthur Bora agitar isso galera. Foco no GShow. #ForaGustavo\n",
      "----\n",
      "\n",
      "\n",
      "Usuário: Joane53592625\n",
      "Texto: @julianapaes @juliette Ju, sua maravilhosa!!❤\n",
      "----\n",
      "\n",
      "\n",
      "Usuário: Biella2306\n",
      "Texto: RT @Anitta: What a week! Go check my new album now to fall in love with me cuz I'm needy https://t.co/GKupaeboMh\n",
      "URL: http://pbs.twimg.com/media/FQuSdZsWYAUu99C.jpg\n",
      "[]\n",
      "Descricao: graphical user interface\n",
      "Tag: ['text', 'human face', 'screenshot', 'clothing', 'man', 'person', 'website', 'online advertising', 'design']\n",
      "----\n",
      "\n",
      "\n",
      "Usuário: KussJeferson\n",
      "Texto: @Aguiarthur 🍞\n",
      "----\n",
      "\n",
      "\n",
      "Usuário: tavares_carlaa\n",
      "Texto: @Aguiarthur 🍞🍞🍞🍞\n",
      "----\n",
      "\n",
      "\n",
      "Usuário: Jessica05829716\n",
      "Texto: RT @Aguiarthur: 🍞 FOLLOW TRICK DA PADARIA  🍞\n",
      "\n",
      "- RT e FAV\n",
      "- Comente o emoji 🍞\n",
      "- Siga quem deu RT e FAV nesse tweet \n",
      "- Siga quem curtir seu e…\n",
      "----\n",
      "\n",
      "\n",
      "Usuário: AndreiValdir\n",
      "Texto: RT @ivetesangalo: Salva ai na agenda, minha gente!!! Dia 17 de julho temos encontro marcado em Orlando, no Florida Cup Fan Fest para um sho…\n",
      "----\n",
      "\n",
      "\n",
      "Usuário: gabbysje\n",
      "Texto: @julianapaes @qloucura_soe69 @juliette Quando vamos ter encontros das Jus marcados em fotos? 😍😍\n",
      "----\n",
      "\n",
      "\n",
      "Usuário: tavares_carlaa\n",
      "Texto: RT @Aguiarthur: 🍞 FOLLOW TRICK DA PADARIA  🍞\n",
      "\n",
      "- RT e FAV\n",
      "- Comente o emoji 🍞\n",
      "- Siga quem deu RT e FAV nesse tweet \n",
      "- Siga quem curtir seu e…\n",
      "----\n",
      "\n",
      "\n",
      "Usuário: Arthur93628577\n",
      "Texto: RT @Anitta: What a week! Go check my new album now to fall in love with me cuz I'm needy https://t.co/GKupaeboMh\n",
      "URL: http://pbs.twimg.com/media/FQuSdZsWYAUu99C.jpg\n",
      "[]\n",
      "Descricao: graphical user interface\n",
      "Tag: ['text', 'human face', 'screenshot', 'clothing', 'man', 'person', 'website', 'online advertising', 'design']\n",
      "----\n",
      "\n",
      "\n",
      "Usuário: Tiago93944944\n",
      "Texto: @Aguiarthur Entrem no Grupo de ARTHUR CAMPEÃO 230 PESS0AS JA ESTAO LA\n",
      "\n",
      "https://t.co/2643C7Ucvz\n",
      "----\n",
      "\n",
      "\n",
      "Usuário: gaudard73\n",
      "Texto: @Aguiarthur 🍞🍞🍞🍞🍞🍞🍞🍞✨\n",
      "----\n",
      "\n",
      "\n",
      "Usuário: raquel_clarkg\n",
      "Texto: RT @julianapaes: @juliette Aproveita essa viagem, gringa!!! 💖💖\n",
      "----\n",
      "\n",
      "\n",
      "Usuário: soniaMariadeL12\n",
      "Texto: RT @Aguiarthur: 🍞 FOLLOW TRICK DA PADARIA  🍞\n",
      "\n",
      "- RT e FAV\n",
      "- Comente o emoji 🍞\n",
      "- Siga quem deu RT e FAV nesse tweet \n",
      "- Siga quem curtir seu e…\n",
      "----\n",
      "\n",
      "\n",
      "Usuário: CarlaArianeHof1\n",
      "Texto: RT @Aguiarthur: 🍞 FOLLOW TRICK DA PADARIA  🍞\n",
      "\n",
      "- RT e FAV\n",
      "- Comente o emoji 🍞\n",
      "- Siga quem deu RT e FAV nesse tweet \n",
      "- Siga quem curtir seu e…\n",
      "----\n",
      "\n",
      "\n",
      "Usuário: Tiago93944944\n",
      "Texto: @Aguiarthur 🍞Entrem no Grupo de ARTHUR CAMPEÃO 230 PESS0AS JA ESTAO LA\n",
      "\n",
      "https://t.co/2643C7Ucvz\n",
      "----\n",
      "\n",
      "\n",
      "Usuário: marcelo1RN\n",
      "Texto: @julianapaes @juliette 😍😍\n",
      "----\n",
      "\n",
      "\n",
      "Usuário: CarlaArianeHof1\n",
      "Texto: @Aguiarthur 🍞\n",
      "----\n",
      "\n",
      "\n",
      "Usuário: matheuspradog\n",
      "Texto: RT @Aguiarthur: 🍞 FOLLOW TRICK DA PADARIA  🍞\n",
      "\n",
      "- RT e FAV\n",
      "- Comente o emoji 🍞\n",
      "- Siga quem deu RT e FAV nesse tweet \n",
      "- Siga quem curtir seu e…\n",
      "----\n",
      "\n",
      "\n",
      "Usuário: Laritutu00\n",
      "Texto: @Aguiarthur 🍞\n",
      "----\n",
      "\n",
      "\n",
      "Usuário: ELAINEM73442434\n",
      "Texto: RT @Aguiarthur: 🍞 FOLLOW TRICK DA PADARIA  🍞\n",
      "\n",
      "- RT e FAV\n",
      "- Comente o emoji 🍞\n",
      "- Siga quem deu RT e FAV nesse tweet \n",
      "- Siga quem curtir seu e…\n",
      "----\n",
      "\n",
      "\n",
      "Usuário: yg0xx\n",
      "Texto: RT @julianapaes: @juliette Aproveita essa viagem, gringa!!! 💖💖\n",
      "----\n",
      "\n",
      "\n",
      "Usuário: matheuspradog\n",
      "Texto: @Aguiarthur 🍞\n",
      "----\n",
      "\n",
      "\n",
      "Usuário: JiraTizz\n",
      "Texto: RT @neymarjr: Que Deus nos abençoe e nos proteja 🙏🏽❤️⚽️\n",
      "\n",
      "https://t.co/cIIKpAf4v0\n",
      "\n",
      "#triller @triller\n",
      "----\n",
      "\n",
      "\n",
      "Usuário: jenmeneses21\n",
      "Texto: RT @Anitta: What a week! Go check my new album now to fall in love with me cuz I'm needy https://t.co/GKupaeboMh\n",
      "URL: http://pbs.twimg.com/media/FQuSdZsWYAUu99C.jpg\n",
      "[]\n",
      "Descricao: graphical user interface\n",
      "Tag: ['text', 'human face', 'screenshot', 'clothing', 'man', 'person', 'website', 'online advertising', 'design']\n",
      "----\n",
      "\n",
      "\n",
      "Usuário: JiraTizz\n",
      "Texto: RT @neymarjr: Que Deus nos abençoe e nos proteja ❤️🙏🏽⚽️\n",
      "\n",
      "https://t.co/FhoHceTapq\n",
      "\n",
      "#triller @triller\n",
      "----\n",
      "\n",
      "\n",
      "Usuário: TahGirah\n",
      "Texto: RT @Aguiarthur: Raio x do Arthur hoje (19/04) ✨🍞 https://t.co/Pc9PufZfRf\n",
      "URL: http://pbs.twimg.com/ext_tw_video_thumb/1516405208703815680/pu/img/TGO4tHqiJmzH5Yi7.jpg\n",
      "[]\n",
      "Descricao: a person in a tank top\n",
      "Tag: ['human face', 'man', 'person', 'screenshot', 'cartoon', 'clothing']\n",
      "----\n",
      "\n",
      "\n",
      "Usuário: ELAINEM73442434\n",
      "Texto: @Aguiarthur 🍞✨🍞✨\n",
      "----\n",
      "\n",
      "\n",
      "Usuário: IracemaCorrea1\n",
      "Texto: RT @Aguiarthur: 🍞 FOLLOW TRICK DA PADARIA  🍞\n",
      "\n",
      "- RT e FAV\n",
      "- Comente o emoji 🍞\n",
      "- Siga quem deu RT e FAV nesse tweet \n",
      "- Siga quem curtir seu e…\n",
      "----\n",
      "\n",
      "\n",
      "Usuário: Laritutu00\n",
      "Texto: RT @Aguiarthur: 🍞 FOLLOW TRICK DA PADARIA  🍞\n",
      "\n",
      "- RT e FAV\n",
      "- Comente o emoji 🍞\n",
      "- Siga quem deu RT e FAV nesse tweet \n",
      "- Siga quem curtir seu e…\n",
      "----\n",
      "\n",
      "\n",
      "Usuário: d_nayllay\n",
      "Texto: @Aguiarthur https://t.co/hMQMAe5Lw2\n",
      "----\n",
      "\n",
      "\n",
      "Usuário: Janaina83658315\n",
      "Texto: RT @Aguiarthur: 🍞 FOLLOW TRICK DA PADARIA  🍞\n",
      "\n",
      "- RT e FAV\n",
      "- Comente o emoji 🍞\n",
      "- Siga quem deu RT e FAV nesse tweet \n",
      "- Siga quem curtir seu e…\n",
      "----\n",
      "\n",
      "\n",
      "Usuário: colivjess\n",
      "Texto: RT @Aguiarthur: 🍞 FOLLOW TRICK DA PADARIA  🍞\n",
      "\n",
      "- RT e FAV\n",
      "- Comente o emoji 🍞\n",
      "- Siga quem deu RT e FAV nesse tweet \n",
      "- Siga quem curtir seu e…\n",
      "----\n",
      "\n",
      "\n",
      "Usuário: RenatoGazza1966\n",
      "Texto: @Anitta É VERDADE ISSO??? UM ANTI TANQUE UCRANIANO??? https://t.co/kmirmq3iNW\n",
      "URL: http://pbs.twimg.com/media/FQuohkfWUAAORhP.jpg\n",
      "[]\n",
      "Descricao: a person in a garment\n",
      "Tag: ['person', 'clothing', 'knee', 'human face', 'hip', 'indoor', 'girl', 'window']\n",
      "----\n",
      "\n",
      "\n",
      "Usuário: taylorbeygrande\n",
      "Texto: RT @Anitta: What a week! Go check my new album now to fall in love with me cuz I'm needy https://t.co/GKupaeboMh\n",
      "URL: http://pbs.twimg.com/media/FQuSdZsWYAUu99C.jpg\n",
      "[]\n",
      "Descricao: graphical user interface\n",
      "Tag: ['text', 'human face', 'screenshot', 'clothing', 'man', 'person', 'website', 'online advertising', 'design']\n",
      "----\n",
      "\n",
      "\n",
      "Usuário: BruuMaliik\n",
      "Texto: @julianapaes @aloi @Anitta @coachella Fala mesmo boleira\n",
      "----\n",
      "\n",
      "\n",
      "Usuário: dailyanitta1br\n",
      "Texto: RT @Anitta: What a week! Go check my new album now to fall in love with me cuz I'm needy https://t.co/GKupaeboMh\n",
      "URL: http://pbs.twimg.com/media/FQuSdZsWYAUu99C.jpg\n",
      "[]\n",
      "Descricao: graphical user interface\n",
      "Tag: ['text', 'human face', 'screenshot', 'clothing', 'man', 'person', 'website', 'online advertising', 'design']\n",
      "----\n",
      "\n",
      "\n",
      "Usuário: Anasant72693776\n",
      "Texto: RT @Aguiarthur: 🍞 FOLLOW TRICK DA PADARIA  🍞\n",
      "\n",
      "- RT e FAV\n",
      "- Comente o emoji 🍞\n",
      "- Siga quem deu RT e FAV nesse tweet \n",
      "- Siga quem curtir seu e…\n",
      "----\n",
      "\n",
      "\n",
      "Usuário: StangeVitoria\n",
      "Texto: @Aguiarthur 🍞✨🫶💕🍞sdv padaria 🍞🍞🍞🍞🍞🍞🍞🍞🍞🍞🍞🍞🍞🍞🍞🍞🍞🍞🍞🍞🍞🍞\n",
      "----\n",
      "\n",
      "\n",
      "Usuário: voodoododia\n",
      "Texto: RT @Anitta: @Dudu começaram a usar as músicas dos artistas que odeiam dele no fundo dos seus stories sobre o governo. Agora a estratégia do…\n",
      "----\n",
      "\n",
      "\n",
      "Usuário: thavotalula\n",
      "Texto: @julianapaes @juliette Maria marruá maravilhosa\n",
      "----\n",
      "\n",
      "\n",
      "Usuário: gustxvor\n",
      "Texto: RT @julianapaes: @aloi @Anitta @coachella Ela merece muito!!! ❤️❤️❤️\n",
      "----\n",
      "\n",
      "\n",
      "Usuário: arygoliver\n",
      "Texto: @Aguiarthur Fiquem esperto com novos perfil que se dizem  da padaria estão fazendo perfis com emojis para fazer ata… https://t.co/6dutflZFLI\n",
      "----\n",
      "\n",
      "\n",
      "Usuário: B_monteiroo\n",
      "Texto: @Aguiarthur 🍞🍞🍞🍞🍞🍞🍞🌭🥖🥖🥖🥖🥖🥐\n",
      "----\n",
      "\n",
      "\n",
      "Usuário: stefmestre\n",
      "Texto: @Aguiarthur Tomei um block e nada de ganhar um follow hein adm 🥺🍞 DEPOIS EU SIGO GERAL\n",
      "----\n",
      "\n",
      "\n",
      "Usuário: Anasant72693776\n",
      "Texto: @Aguiarthur 🍞✨\n",
      "----\n",
      "\n",
      "\n",
      "Usuário: jucactana\n",
      "Texto: @julianapaes @juliette Essa gringa tá muito linda😍\n",
      "----\n",
      "\n",
      "\n",
      "Usuário: jeanzcunha\n",
      "Texto: RT @ahickmann: Gravei um vlog para mostrar como é um dia meu. Vídeo completo no link: https://t.co/4mBWLldirJ https://t.co/cx3fbIHvIp\n",
      "URL: http://pbs.twimg.com/ext_tw_video_thumb/1516190928070918149/pu/img/hvDGeQ2nfVc2otjh.jpg\n",
      "['Ana Hickmann']\n",
      "Descricao: Ana Hickmann with a white shirt\n",
      "Tag: ['human face', 'person', 'indoor', 'clothing', 'eyebrow', 'jaw', 'skin', 'woman', 'wall']\n",
      "----\n",
      "\n",
      "\n",
      "Usuário: gustxvor\n",
      "Texto: @julianapaes @aloi @Anitta @coachella ♥️♥️\n",
      "----\n",
      "\n",
      "\n",
      "Usuário: Wanessa26010805\n",
      "Texto: RT @Aguiarthur: 🍞 FOLLOW TRICK DA PADARIA  🍞\n",
      "\n",
      "- RT e FAV\n",
      "- Comente o emoji 🍞\n",
      "- Siga quem deu RT e FAV nesse tweet \n",
      "- Siga quem curtir seu e…\n",
      "----\n",
      "\n",
      "\n",
      "Usuário: AraujohSimone\n",
      "Texto: @Aguiarthur 🍞🍞🍞🍞\n",
      "----\n",
      "\n",
      "\n",
      "Usuário: nic0las_melo\n",
      "Texto: @Aguiarthur 🍞🫡🔥\n",
      "----\n",
      "\n",
      "\n",
      "Usuário: PrIsraelMarcos\n",
      "Texto: RT @Anitta: Meu Deus. Tira o ódio de dentro de mim pq a vontade é de mataaaaaarrrrrrrr\n",
      "----\n",
      "\n",
      "\n",
      "Usuário: dricamello39\n",
      "Texto: @Aguiarthur 🍞 🍞🍞🍞🍞🍞🍞🍞🍞🍞🍞🍞🍞🍞🍞\n",
      "----\n",
      "\n",
      "\n",
      "Usuário: Wanessa26010805\n",
      "Texto: @Aguiarthur 🥖🥰\n",
      "----\n",
      "\n",
      "\n",
      "Usuário: veratchu\n",
      "Texto: RT @Aguiarthur: Lembrando que vamos entrar em uma temporada de paredão atrás de paredão e vão ser cada vez mais difíceis então fiquem prepa…\n",
      "----\n",
      "\n",
      "\n",
      "Usuário: Givotril88\n",
      "Texto: @Aguiarthur Arthur campeão.\n",
      "----\n",
      "\n",
      "\n",
      "Usuário: carlititita\n",
      "Texto: @Aguiarthur 🍞🍞🍞\n",
      "----\n",
      "\n",
      "\n",
      "Usuário: WilllSwift\n",
      "Texto: @Aguiarthur Nunca me segue admmm\n",
      "----\n",
      "\n",
      "\n",
      "Usuário: jeanzcunha\n",
      "Texto: RT @ahickmann: @tata Linda!!!! ❤️❤️❤️❤️\n",
      "----\n",
      "\n",
      "\n",
      "Usuário: WilllSwift\n",
      "Texto: RT @Aguiarthur: 🍞 FOLLOW TRICK DA PADARIA  🍞\n",
      "\n",
      "- RT e FAV\n",
      "- Comente o emoji 🍞\n",
      "- Siga quem deu RT e FAV nesse tweet \n",
      "- Siga quem curtir seu e…\n",
      "----\n",
      "\n",
      "\n",
      "Usuário: Souzaamachadoo\n",
      "Texto: RT @julianapaes: @aloi @Anitta @coachella Ela merece muito!!! ❤️❤️❤️\n",
      "----\n",
      "\n",
      "\n",
      "Usuário: TemEuNe\n",
      "Texto: @ivetesangalo @UniversalORL @FC_series já salvei mamain! agora cabe a você fazer live 🙏🏽😌\n",
      "----\n",
      "\n",
      "\n",
      "Usuário: tatafreire7\n",
      "Texto: @julianapaes @mabelly_thaysa @juliette ❤️❤️❤️❤️\n",
      "----\n",
      "\n",
      "\n",
      "Usuário: witchcanis\n",
      "Texto: RT @Aguiarthur: 🍞 FOLLOW TRICK DA PADARIA  🍞\n",
      "\n",
      "- RT e FAV\n",
      "- Comente o emoji 🍞\n",
      "- Siga quem deu RT e FAV nesse tweet \n",
      "- Siga quem curtir seu e…\n",
      "----\n",
      "\n",
      "\n",
      "Usuário: ELAINEM73442434\n",
      "Texto: @Aguiarthur https://t.co/IUDoEfbzHE\n",
      "URL: http://pbs.twimg.com/media/FQuoupaXwAoTYcK.jpg\n",
      "[]\n",
      "Descricao: text\n",
      "Tag: ['text', 'screenshot', 'font', 'document']\n",
      "----\n",
      "\n",
      "\n",
      "Usuário: aninharealit\n",
      "Texto: RT @Aguiarthur: 🍞 FOLLOW TRICK DA PADARIA  🍞\n",
      "\n",
      "- RT e FAV\n",
      "- Comente o emoji 🍞\n",
      "- Siga quem deu RT e FAV nesse tweet \n",
      "- Siga quem curtir seu e…\n",
      "----\n",
      "\n",
      "\n",
      "Usuário: guiixoliveira\n",
      "Texto: RT @Anitta: #JoeRohde and #KleyTarcitano thank you for making my Favela on stage possible. Thanks @coachella for treating me and my team an…\n",
      "----\n",
      "\n",
      "\n",
      "Usuário: granetelli1\n",
      "Texto: RT @Aguiarthur: 🍞 FOLLOW TRICK DA PADARIA  🍞\n",
      "\n",
      "- RT e FAV\n",
      "- Comente o emoji 🍞\n",
      "- Siga quem deu RT e FAV nesse tweet \n",
      "- Siga quem curtir seu e…\n",
      "----\n",
      "\n",
      "\n",
      "Usuário: ftdoreto\n",
      "Texto: RT @Anitta: @cynaramenezes Me chama que eu ensino como que faz rs.\n",
      "----\n",
      "\n",
      "\n",
      "Usuário: Fabii_Fabianaa\n",
      "Texto: @Aguiarthur 🍞✨🍞✨🍞✨🍞✨🍞✨🍞\n",
      "  🍞✨ARTHUR CAMPEÃO✨\n",
      "      🍞✨🍞✨🍞✨🍞✨🍞\n",
      "               #ForaGustavo\n",
      "                      SDV https://t.co/eVRueESyk2\n",
      "URL: http://pbs.twimg.com/media/FQuoy8nWUAgHt0P.jpg\n",
      "[]\n",
      "Descricao: graphical user interface, application, Teams\n",
      "Tag: ['text', 'screenshot', 'man', 'human face', 'person', 'website', 'online advertising']\n",
      "----\n",
      "\n",
      "\n",
      "Usuário: OMaiordeMinas3\n",
      "Texto: RT @Aguiarthur: Lembrando que vamos entrar em uma temporada de paredão atrás de paredão e vão ser cada vez mais difíceis então fiquem prepa…\n",
      "----\n",
      "\n",
      "\n",
      "Usuário: aninharealit\n",
      "Texto: @Aguiarthur 🍞\n",
      "----\n",
      "\n",
      "\n",
      "Usuário: aloi\n",
      "Texto: @julianapaes @Anitta @coachella Demais! 👏🏻👏🏻👏🏻\n",
      "----\n",
      "\n",
      "\n",
      "Usuário: Doceuaraujo1\n",
      "Texto: RT @Aguiarthur: 🍞 FOLLOW TRICK DA PADARIA  🍞\n",
      "\n",
      "- RT e FAV\n",
      "- Comente o emoji 🍞\n",
      "- Siga quem deu RT e FAV nesse tweet \n",
      "- Siga quem curtir seu e…\n",
      "----\n",
      "\n",
      "\n",
      "Usuário: WilllSwift\n",
      "Texto: @Aguiarthur 🍞🍞🍞🍞\n",
      "----\n",
      "\n",
      "\n",
      "Usuário: MarBecker1607\n",
      "Texto: @Aguiarthur ✨✨🍞🍞🍞 Aguardando\n",
      "----\n",
      "\n",
      "\n",
      "Usuário: catarinaalenca9\n",
      "Texto: @Aguiarthur Como o Arthur já ganhou o BBB, o prêmio de consolação é realmente sair d perto dele. Arthur é chato e t… https://t.co/cnKJxOFwmu\n",
      "----\n",
      "\n",
      "\n",
      "Usuário: juliettaarr\n",
      "Texto: RT @julianapaes: @juliette Aproveita essa viagem, gringa!!! 💖💖\n",
      "----\n",
      "\n",
      "\n",
      "Usuário: mycherlle\n",
      "Texto: @julianapaes @juliette ♥️♥️♥️\n",
      "----\n",
      "\n",
      "\n",
      "Usuário: d_nayllay\n",
      "Texto: @Anitta @coachella https://t.co/hMQMAe5Lw2\n",
      "----\n",
      "\n",
      "\n",
      "Usuário: OMaiordeMinas3\n",
      "Texto: RT @Aguiarthur: Arthur no evento da Vitasay ✨ https://t.co/kgeso6OA4W\n",
      "URL: http://pbs.twimg.com/media/FQtzQzIWQA48fKH.jpg\n",
      "['Arthur Aguiar']\n",
      "Descricao: graphical user interface\n",
      "Tag: ['text', 'clothing', 'footwear', 'person', 'bottle']\n",
      "----\n",
      "\n",
      "\n",
      "Usuário: maga_daju\n",
      "Texto: @julianapaes @juliette Minhas Ju Ju\n",
      "----\n",
      "\n",
      "\n",
      "Usuário: OMaiordeMinas3\n",
      "Texto: RT @Aguiarthur: Todo concentrado tentando resolver os desafios 😂💛 https://t.co/LRfy5VT6J7\n",
      "URL: http://pbs.twimg.com/ext_tw_video_thumb/1516433728414834689/pu/img/paM6WcDTBrgK8G9k.jpg\n",
      "[]\n",
      "Descricao: graphical user interface\n",
      "Tag: ['text', 'clothing', 'person', 'man']\n",
      "----\n",
      "\n",
      "\n",
      "Usuário: monicacelli\n",
      "Texto: @Aguiarthur 🍞\n",
      "----\n",
      "\n",
      "\n",
      "Usuário: OMaiordeMinas3\n",
      "Texto: RT @Aguiarthur: Chegou a hora preferida dele 🥪 https://t.co/yiy7qqLFfY\n",
      "URL: http://pbs.twimg.com/media/FQt3uK2XsAMBLMt.jpg\n",
      "[]\n",
      "Descricao: a man eating a sandwich\n",
      "Tag: ['person', 'text', 'human face', 'fast food', 'clothing', 'eating', 'indoor', 'food', 'wall']\n",
      "----\n",
      "\n",
      "\n",
      "Usuário: RosaneBonoro\n",
      "Texto: @Aguiarthur 🍞\n",
      "----\n",
      "\n",
      "\n",
      "Usuário: borgespedroo\n",
      "Texto: RT @Anitta: What a week! Go check my new album now to fall in love with me cuz I'm needy https://t.co/GKupaeboMh\n",
      "URL: http://pbs.twimg.com/media/FQuSdZsWYAUu99C.jpg\n",
      "[]\n",
      "Descricao: graphical user interface\n",
      "Tag: ['text', 'human face', 'screenshot', 'clothing', 'man', 'person', 'website', 'online advertising', 'design']\n",
      "----\n",
      "\n",
      "\n",
      "Usuário: SaritaComenta\n",
      "Texto: @Aguiarthur 🍞\n",
      "----\n",
      "\n",
      "\n",
      "Usuário: OMaiordeMinas3\n",
      "Texto: RT @Aguiarthur: Come y come https://t.co/tK1guY1xlH\n",
      "URL: http://pbs.twimg.com/media/FQt7iNuXEAkrseW.jpg\n",
      "[]\n",
      "Descricao: a man eating a piece of food\n"
     ]
    },
    {
     "ename": "KeyboardInterrupt",
     "evalue": "ignored",
     "output_type": "error",
     "traceback": [
      "\u001b[0;31m---------------------------------------------------------------------------\u001b[0m",
      "\u001b[0;31mKeyboardInterrupt\u001b[0m                         Traceback (most recent call last)",
      "\u001b[0;32m<ipython-input-85-c8d34de9e731>\u001b[0m in \u001b[0;36m<module>\u001b[0;34m()\u001b[0m\n\u001b[0;32m----> 1\u001b[0;31m \u001b[0mminhaStream\u001b[0m\u001b[0;34m.\u001b[0m\u001b[0mfilter\u001b[0m\u001b[0;34m(\u001b[0m\u001b[0mfollow\u001b[0m\u001b[0;34m=\u001b[0m\u001b[0mfamosos_id\u001b[0m\u001b[0;34m)\u001b[0m\u001b[0;34m\u001b[0m\u001b[0;34m\u001b[0m\u001b[0m\n\u001b[0m",
      "\u001b[0;32m/usr/local/lib/python3.7/dist-packages/tweepy/streaming.py\u001b[0m in \u001b[0;36mfilter\u001b[0;34m(self, follow, track, is_async, locations, stall_warnings, languages, encoding, filter_level)\u001b[0m\n\u001b[1;32m    472\u001b[0m             \u001b[0mself\u001b[0m\u001b[0;34m.\u001b[0m\u001b[0mbody\u001b[0m\u001b[0;34m[\u001b[0m\u001b[0;34m'filter_level'\u001b[0m\u001b[0;34m]\u001b[0m \u001b[0;34m=\u001b[0m \u001b[0mfilter_level\u001b[0m\u001b[0;34m.\u001b[0m\u001b[0mencode\u001b[0m\u001b[0;34m(\u001b[0m\u001b[0mencoding\u001b[0m\u001b[0;34m)\u001b[0m\u001b[0;34m\u001b[0m\u001b[0;34m\u001b[0m\u001b[0m\n\u001b[1;32m    473\u001b[0m         \u001b[0mself\u001b[0m\u001b[0;34m.\u001b[0m\u001b[0msession\u001b[0m\u001b[0;34m.\u001b[0m\u001b[0mparams\u001b[0m \u001b[0;34m=\u001b[0m \u001b[0;34m{\u001b[0m\u001b[0;34m'delimited'\u001b[0m\u001b[0;34m:\u001b[0m \u001b[0;34m'length'\u001b[0m\u001b[0;34m}\u001b[0m\u001b[0;34m\u001b[0m\u001b[0;34m\u001b[0m\u001b[0m\n\u001b[0;32m--> 474\u001b[0;31m         \u001b[0mself\u001b[0m\u001b[0;34m.\u001b[0m\u001b[0m_start\u001b[0m\u001b[0;34m(\u001b[0m\u001b[0mis_async\u001b[0m\u001b[0;34m)\u001b[0m\u001b[0;34m\u001b[0m\u001b[0;34m\u001b[0m\u001b[0m\n\u001b[0m\u001b[1;32m    475\u001b[0m \u001b[0;34m\u001b[0m\u001b[0m\n\u001b[1;32m    476\u001b[0m     def sitestream(self, follow, stall_warnings=False,\n",
      "\u001b[0;32m/usr/local/lib/python3.7/dist-packages/tweepy/streaming.py\u001b[0m in \u001b[0;36m_start\u001b[0;34m(self, is_async)\u001b[0m\n\u001b[1;32m    387\u001b[0m             \u001b[0mself\u001b[0m\u001b[0;34m.\u001b[0m\u001b[0m_thread\u001b[0m\u001b[0;34m.\u001b[0m\u001b[0mstart\u001b[0m\u001b[0;34m(\u001b[0m\u001b[0;34m)\u001b[0m\u001b[0;34m\u001b[0m\u001b[0;34m\u001b[0m\u001b[0m\n\u001b[1;32m    388\u001b[0m         \u001b[0;32melse\u001b[0m\u001b[0;34m:\u001b[0m\u001b[0;34m\u001b[0m\u001b[0;34m\u001b[0m\u001b[0m\n\u001b[0;32m--> 389\u001b[0;31m             \u001b[0mself\u001b[0m\u001b[0;34m.\u001b[0m\u001b[0m_run\u001b[0m\u001b[0;34m(\u001b[0m\u001b[0;34m)\u001b[0m\u001b[0;34m\u001b[0m\u001b[0;34m\u001b[0m\u001b[0m\n\u001b[0m\u001b[1;32m    390\u001b[0m \u001b[0;34m\u001b[0m\u001b[0m\n\u001b[1;32m    391\u001b[0m     \u001b[0;32mdef\u001b[0m \u001b[0mon_closed\u001b[0m\u001b[0;34m(\u001b[0m\u001b[0mself\u001b[0m\u001b[0;34m,\u001b[0m \u001b[0mresp\u001b[0m\u001b[0;34m)\u001b[0m\u001b[0;34m:\u001b[0m\u001b[0;34m\u001b[0m\u001b[0;34m\u001b[0m\u001b[0m\n",
      "\u001b[0;32m/usr/local/lib/python3.7/dist-packages/tweepy/streaming.py\u001b[0m in \u001b[0;36m_run\u001b[0;34m(self)\u001b[0m\n\u001b[1;32m    287\u001b[0m                     \u001b[0mself\u001b[0m\u001b[0;34m.\u001b[0m\u001b[0msnooze_time\u001b[0m \u001b[0;34m=\u001b[0m \u001b[0mself\u001b[0m\u001b[0;34m.\u001b[0m\u001b[0msnooze_time_step\u001b[0m\u001b[0;34m\u001b[0m\u001b[0;34m\u001b[0m\u001b[0m\n\u001b[1;32m    288\u001b[0m                     \u001b[0mself\u001b[0m\u001b[0;34m.\u001b[0m\u001b[0mlistener\u001b[0m\u001b[0;34m.\u001b[0m\u001b[0mon_connect\u001b[0m\u001b[0;34m(\u001b[0m\u001b[0;34m)\u001b[0m\u001b[0;34m\u001b[0m\u001b[0;34m\u001b[0m\u001b[0m\n\u001b[0;32m--> 289\u001b[0;31m                     \u001b[0mself\u001b[0m\u001b[0;34m.\u001b[0m\u001b[0m_read_loop\u001b[0m\u001b[0;34m(\u001b[0m\u001b[0mresp\u001b[0m\u001b[0;34m)\u001b[0m\u001b[0;34m\u001b[0m\u001b[0;34m\u001b[0m\u001b[0m\n\u001b[0m\u001b[1;32m    290\u001b[0m             \u001b[0;32mexcept\u001b[0m \u001b[0;34m(\u001b[0m\u001b[0mTimeout\u001b[0m\u001b[0;34m,\u001b[0m \u001b[0mssl\u001b[0m\u001b[0;34m.\u001b[0m\u001b[0mSSLError\u001b[0m\u001b[0;34m)\u001b[0m \u001b[0;32mas\u001b[0m \u001b[0mexc\u001b[0m\u001b[0;34m:\u001b[0m\u001b[0;34m\u001b[0m\u001b[0;34m\u001b[0m\u001b[0m\n\u001b[1;32m    291\u001b[0m                 \u001b[0;31m# This is still necessary, as a SSLError can actually be\u001b[0m\u001b[0;34m\u001b[0m\u001b[0;34m\u001b[0m\u001b[0;34m\u001b[0m\u001b[0m\n",
      "\u001b[0;32m/usr/local/lib/python3.7/dist-packages/tweepy/streaming.py\u001b[0m in \u001b[0;36m_read_loop\u001b[0;34m(self, resp)\u001b[0m\n\u001b[1;32m    349\u001b[0m             \u001b[0mnext_status_obj\u001b[0m \u001b[0;34m=\u001b[0m \u001b[0mbuf\u001b[0m\u001b[0;34m.\u001b[0m\u001b[0mread_len\u001b[0m\u001b[0;34m(\u001b[0m\u001b[0mlength\u001b[0m\u001b[0;34m)\u001b[0m\u001b[0;34m\u001b[0m\u001b[0;34m\u001b[0m\u001b[0m\n\u001b[1;32m    350\u001b[0m             \u001b[0;32mif\u001b[0m \u001b[0mself\u001b[0m\u001b[0;34m.\u001b[0m\u001b[0mrunning\u001b[0m \u001b[0;32mand\u001b[0m \u001b[0mnext_status_obj\u001b[0m\u001b[0;34m:\u001b[0m\u001b[0;34m\u001b[0m\u001b[0;34m\u001b[0m\u001b[0m\n\u001b[0;32m--> 351\u001b[0;31m                 \u001b[0mself\u001b[0m\u001b[0;34m.\u001b[0m\u001b[0m_data\u001b[0m\u001b[0;34m(\u001b[0m\u001b[0mnext_status_obj\u001b[0m\u001b[0;34m)\u001b[0m\u001b[0;34m\u001b[0m\u001b[0;34m\u001b[0m\u001b[0m\n\u001b[0m\u001b[1;32m    352\u001b[0m \u001b[0;34m\u001b[0m\u001b[0m\n\u001b[1;32m    353\u001b[0m             \u001b[0;31m# # Note: keep-alive newlines might be inserted before each length value.\u001b[0m\u001b[0;34m\u001b[0m\u001b[0;34m\u001b[0m\u001b[0;34m\u001b[0m\u001b[0m\n",
      "\u001b[0;32m/usr/local/lib/python3.7/dist-packages/tweepy/streaming.py\u001b[0m in \u001b[0;36m_data\u001b[0;34m(self, data)\u001b[0m\n\u001b[1;32m    321\u001b[0m \u001b[0;34m\u001b[0m\u001b[0m\n\u001b[1;32m    322\u001b[0m     \u001b[0;32mdef\u001b[0m \u001b[0m_data\u001b[0m\u001b[0;34m(\u001b[0m\u001b[0mself\u001b[0m\u001b[0;34m,\u001b[0m \u001b[0mdata\u001b[0m\u001b[0;34m)\u001b[0m\u001b[0;34m:\u001b[0m\u001b[0;34m\u001b[0m\u001b[0;34m\u001b[0m\u001b[0m\n\u001b[0;32m--> 323\u001b[0;31m         \u001b[0;32mif\u001b[0m \u001b[0mself\u001b[0m\u001b[0;34m.\u001b[0m\u001b[0mlistener\u001b[0m\u001b[0;34m.\u001b[0m\u001b[0mon_data\u001b[0m\u001b[0;34m(\u001b[0m\u001b[0mdata\u001b[0m\u001b[0;34m)\u001b[0m \u001b[0;32mis\u001b[0m \u001b[0;32mFalse\u001b[0m\u001b[0;34m:\u001b[0m\u001b[0;34m\u001b[0m\u001b[0;34m\u001b[0m\u001b[0m\n\u001b[0m\u001b[1;32m    324\u001b[0m             \u001b[0mself\u001b[0m\u001b[0;34m.\u001b[0m\u001b[0mrunning\u001b[0m \u001b[0;34m=\u001b[0m \u001b[0;32mFalse\u001b[0m\u001b[0;34m\u001b[0m\u001b[0;34m\u001b[0m\u001b[0m\n\u001b[1;32m    325\u001b[0m \u001b[0;34m\u001b[0m\u001b[0m\n",
      "\u001b[0;32m/usr/local/lib/python3.7/dist-packages/tweepy/streaming.py\u001b[0m in \u001b[0;36mon_data\u001b[0;34m(self, raw_data)\u001b[0m\n\u001b[1;32m     52\u001b[0m         \u001b[0;32mif\u001b[0m \u001b[0;34m'in_reply_to_status_id'\u001b[0m \u001b[0;32min\u001b[0m \u001b[0mdata\u001b[0m\u001b[0;34m:\u001b[0m\u001b[0;34m\u001b[0m\u001b[0;34m\u001b[0m\u001b[0m\n\u001b[1;32m     53\u001b[0m             \u001b[0mstatus\u001b[0m \u001b[0;34m=\u001b[0m \u001b[0mStatus\u001b[0m\u001b[0;34m.\u001b[0m\u001b[0mparse\u001b[0m\u001b[0;34m(\u001b[0m\u001b[0mself\u001b[0m\u001b[0;34m.\u001b[0m\u001b[0mapi\u001b[0m\u001b[0;34m,\u001b[0m \u001b[0mdata\u001b[0m\u001b[0;34m)\u001b[0m\u001b[0;34m\u001b[0m\u001b[0;34m\u001b[0m\u001b[0m\n\u001b[0;32m---> 54\u001b[0;31m             \u001b[0;32mif\u001b[0m \u001b[0mself\u001b[0m\u001b[0;34m.\u001b[0m\u001b[0mon_status\u001b[0m\u001b[0;34m(\u001b[0m\u001b[0mstatus\u001b[0m\u001b[0;34m)\u001b[0m \u001b[0;32mis\u001b[0m \u001b[0;32mFalse\u001b[0m\u001b[0;34m:\u001b[0m\u001b[0;34m\u001b[0m\u001b[0;34m\u001b[0m\u001b[0m\n\u001b[0m\u001b[1;32m     55\u001b[0m                 \u001b[0;32mreturn\u001b[0m \u001b[0;32mFalse\u001b[0m\u001b[0;34m\u001b[0m\u001b[0;34m\u001b[0m\u001b[0m\n\u001b[1;32m     56\u001b[0m         \u001b[0;32melif\u001b[0m \u001b[0;34m'delete'\u001b[0m \u001b[0;32min\u001b[0m \u001b[0mdata\u001b[0m\u001b[0;34m:\u001b[0m\u001b[0;34m\u001b[0m\u001b[0;34m\u001b[0m\u001b[0m\n",
      "\u001b[0;32m<ipython-input-82-9a47f091688f>\u001b[0m in \u001b[0;36mon_status\u001b[0;34m(self, status)\u001b[0m\n\u001b[1;32m     17\u001b[0m       \u001b[0mprint\u001b[0m\u001b[0;34m(\u001b[0m\u001b[0;34m\"Descricao:\"\u001b[0m \u001b[0;34m,\u001b[0m \u001b[0mtexto_descricao\u001b[0m\u001b[0;34m)\u001b[0m\u001b[0;34m\u001b[0m\u001b[0;34m\u001b[0m\u001b[0m\n\u001b[1;32m     18\u001b[0m \u001b[0;34m\u001b[0m\u001b[0m\n\u001b[0;32m---> 19\u001b[0;31m       \u001b[0manalise_de_imagem\u001b[0m \u001b[0;34m=\u001b[0m \u001b[0mclient\u001b[0m\u001b[0;34m.\u001b[0m\u001b[0manalyze_image\u001b[0m\u001b[0;34m(\u001b[0m\u001b[0murl\u001b[0m\u001b[0;34m,\u001b[0m \u001b[0mvisual_features\u001b[0m \u001b[0;34m=\u001b[0m \u001b[0;34m[\u001b[0m\u001b[0mVisualFeatureTypes\u001b[0m\u001b[0;34m.\u001b[0m\u001b[0mtags\u001b[0m\u001b[0;34m]\u001b[0m\u001b[0;34m)\u001b[0m\u001b[0;34m\u001b[0m\u001b[0;34m\u001b[0m\u001b[0m\n\u001b[0m\u001b[1;32m     20\u001b[0m       \u001b[0mlista_tags\u001b[0m\u001b[0;34m=\u001b[0m \u001b[0;34m[\u001b[0m\u001b[0mtag\u001b[0m\u001b[0;34m.\u001b[0m\u001b[0mname\u001b[0m \u001b[0;32mfor\u001b[0m \u001b[0mtag\u001b[0m \u001b[0;32min\u001b[0m \u001b[0manalise_de_imagem\u001b[0m\u001b[0;34m.\u001b[0m\u001b[0mtags\u001b[0m\u001b[0;34m]\u001b[0m\u001b[0;34m\u001b[0m\u001b[0;34m\u001b[0m\u001b[0m\n\u001b[1;32m     21\u001b[0m       \u001b[0mprint\u001b[0m\u001b[0;34m(\u001b[0m\u001b[0;34m'Tag:'\u001b[0m \u001b[0;34m,\u001b[0m \u001b[0mlista_tags\u001b[0m\u001b[0;34m)\u001b[0m\u001b[0;34m\u001b[0m\u001b[0;34m\u001b[0m\u001b[0m\n",
      "\u001b[0;32m/usr/local/lib/python3.7/dist-packages/azure/cognitiveservices/vision/computervision/operations/_computer_vision_client_operations.py\u001b[0m in \u001b[0;36manalyze_image\u001b[0;34m(self, url, visual_features, details, language, description_exclude, model_version, custom_headers, raw, **operation_config)\u001b[0m\n\u001b[1;32m    117\u001b[0m         \u001b[0;31m# Construct and send request\u001b[0m\u001b[0;34m\u001b[0m\u001b[0;34m\u001b[0m\u001b[0;34m\u001b[0m\u001b[0m\n\u001b[1;32m    118\u001b[0m         \u001b[0mrequest\u001b[0m \u001b[0;34m=\u001b[0m \u001b[0mself\u001b[0m\u001b[0;34m.\u001b[0m\u001b[0m_client\u001b[0m\u001b[0;34m.\u001b[0m\u001b[0mpost\u001b[0m\u001b[0;34m(\u001b[0m\u001b[0murl\u001b[0m\u001b[0;34m,\u001b[0m \u001b[0mquery_parameters\u001b[0m\u001b[0;34m,\u001b[0m \u001b[0mheader_parameters\u001b[0m\u001b[0;34m,\u001b[0m \u001b[0mbody_content\u001b[0m\u001b[0;34m)\u001b[0m\u001b[0;34m\u001b[0m\u001b[0;34m\u001b[0m\u001b[0m\n\u001b[0;32m--> 119\u001b[0;31m         \u001b[0mresponse\u001b[0m \u001b[0;34m=\u001b[0m \u001b[0mself\u001b[0m\u001b[0;34m.\u001b[0m\u001b[0m_client\u001b[0m\u001b[0;34m.\u001b[0m\u001b[0msend\u001b[0m\u001b[0;34m(\u001b[0m\u001b[0mrequest\u001b[0m\u001b[0;34m,\u001b[0m \u001b[0mstream\u001b[0m\u001b[0;34m=\u001b[0m\u001b[0;32mFalse\u001b[0m\u001b[0;34m,\u001b[0m \u001b[0;34m**\u001b[0m\u001b[0moperation_config\u001b[0m\u001b[0;34m)\u001b[0m\u001b[0;34m\u001b[0m\u001b[0;34m\u001b[0m\u001b[0m\n\u001b[0m\u001b[1;32m    120\u001b[0m \u001b[0;34m\u001b[0m\u001b[0m\n\u001b[1;32m    121\u001b[0m         \u001b[0;32mif\u001b[0m \u001b[0mresponse\u001b[0m\u001b[0;34m.\u001b[0m\u001b[0mstatus_code\u001b[0m \u001b[0;32mnot\u001b[0m \u001b[0;32min\u001b[0m \u001b[0;34m[\u001b[0m\u001b[0;36m200\u001b[0m\u001b[0;34m]\u001b[0m\u001b[0;34m:\u001b[0m\u001b[0;34m\u001b[0m\u001b[0;34m\u001b[0m\u001b[0m\n",
      "\u001b[0;32m/usr/local/lib/python3.7/dist-packages/msrest/service_client.py\u001b[0m in \u001b[0;36msend\u001b[0;34m(self, request, headers, content, **kwargs)\u001b[0m\n\u001b[1;32m    334\u001b[0m         \u001b[0mkwargs\u001b[0m\u001b[0;34m.\u001b[0m\u001b[0msetdefault\u001b[0m\u001b[0;34m(\u001b[0m\u001b[0;34m'stream'\u001b[0m\u001b[0;34m,\u001b[0m \u001b[0;32mTrue\u001b[0m\u001b[0;34m)\u001b[0m\u001b[0;34m\u001b[0m\u001b[0;34m\u001b[0m\u001b[0m\n\u001b[1;32m    335\u001b[0m         \u001b[0;32mtry\u001b[0m\u001b[0;34m:\u001b[0m\u001b[0;34m\u001b[0m\u001b[0;34m\u001b[0m\u001b[0m\n\u001b[0;32m--> 336\u001b[0;31m             \u001b[0mpipeline_response\u001b[0m \u001b[0;34m=\u001b[0m \u001b[0mself\u001b[0m\u001b[0;34m.\u001b[0m\u001b[0mconfig\u001b[0m\u001b[0;34m.\u001b[0m\u001b[0mpipeline\u001b[0m\u001b[0;34m.\u001b[0m\u001b[0mrun\u001b[0m\u001b[0;34m(\u001b[0m\u001b[0mrequest\u001b[0m\u001b[0;34m,\u001b[0m \u001b[0;34m**\u001b[0m\u001b[0mkwargs\u001b[0m\u001b[0;34m)\u001b[0m\u001b[0;34m\u001b[0m\u001b[0;34m\u001b[0m\u001b[0m\n\u001b[0m\u001b[1;32m    337\u001b[0m             \u001b[0;31m# There is too much thing that expects this method to return a \"requests.Response\"\u001b[0m\u001b[0;34m\u001b[0m\u001b[0;34m\u001b[0m\u001b[0;34m\u001b[0m\u001b[0m\n\u001b[1;32m    338\u001b[0m             \u001b[0;31m# to break it in a compatible release.\u001b[0m\u001b[0;34m\u001b[0m\u001b[0;34m\u001b[0m\u001b[0;34m\u001b[0m\u001b[0m\n",
      "\u001b[0;32m/usr/local/lib/python3.7/dist-packages/msrest/pipeline/__init__.py\u001b[0m in \u001b[0;36mrun\u001b[0;34m(self, request, **kwargs)\u001b[0m\n\u001b[1;32m    195\u001b[0m         \u001b[0mpipeline_request\u001b[0m \u001b[0;34m=\u001b[0m \u001b[0mRequest\u001b[0m\u001b[0;34m(\u001b[0m\u001b[0mrequest\u001b[0m\u001b[0;34m,\u001b[0m \u001b[0mcontext\u001b[0m\u001b[0;34m)\u001b[0m  \u001b[0;31m# type: Request[HTTPRequestType]\u001b[0m\u001b[0;34m\u001b[0m\u001b[0;34m\u001b[0m\u001b[0m\n\u001b[1;32m    196\u001b[0m         \u001b[0mfirst_node\u001b[0m \u001b[0;34m=\u001b[0m \u001b[0mself\u001b[0m\u001b[0;34m.\u001b[0m\u001b[0m_impl_policies\u001b[0m\u001b[0;34m[\u001b[0m\u001b[0;36m0\u001b[0m\u001b[0;34m]\u001b[0m \u001b[0;32mif\u001b[0m \u001b[0mself\u001b[0m\u001b[0;34m.\u001b[0m\u001b[0m_impl_policies\u001b[0m \u001b[0;32melse\u001b[0m \u001b[0mself\u001b[0m\u001b[0;34m.\u001b[0m\u001b[0m_sender\u001b[0m\u001b[0;34m\u001b[0m\u001b[0;34m\u001b[0m\u001b[0m\n\u001b[0;32m--> 197\u001b[0;31m         \u001b[0;32mreturn\u001b[0m \u001b[0mfirst_node\u001b[0m\u001b[0;34m.\u001b[0m\u001b[0msend\u001b[0m\u001b[0;34m(\u001b[0m\u001b[0mpipeline_request\u001b[0m\u001b[0;34m,\u001b[0m \u001b[0;34m**\u001b[0m\u001b[0mkwargs\u001b[0m\u001b[0;34m)\u001b[0m  \u001b[0;31m# type: ignore\u001b[0m\u001b[0;34m\u001b[0m\u001b[0;34m\u001b[0m\u001b[0m\n\u001b[0m\u001b[1;32m    198\u001b[0m \u001b[0;34m\u001b[0m\u001b[0m\n\u001b[1;32m    199\u001b[0m \u001b[0;32mclass\u001b[0m \u001b[0mHTTPSender\u001b[0m\u001b[0;34m(\u001b[0m\u001b[0mAbstractContextManager\u001b[0m\u001b[0;34m,\u001b[0m \u001b[0mABC\u001b[0m\u001b[0;34m,\u001b[0m \u001b[0mGeneric\u001b[0m\u001b[0;34m[\u001b[0m\u001b[0mHTTPRequestType\u001b[0m\u001b[0;34m,\u001b[0m \u001b[0mHTTPResponseType\u001b[0m\u001b[0;34m]\u001b[0m\u001b[0;34m)\u001b[0m\u001b[0;34m:\u001b[0m\u001b[0;34m\u001b[0m\u001b[0;34m\u001b[0m\u001b[0m\n",
      "\u001b[0;32m/usr/local/lib/python3.7/dist-packages/msrest/pipeline/__init__.py\u001b[0m in \u001b[0;36msend\u001b[0;34m(self, request, **kwargs)\u001b[0m\n\u001b[1;32m    148\u001b[0m         \u001b[0mself\u001b[0m\u001b[0;34m.\u001b[0m\u001b[0m_policy\u001b[0m\u001b[0;34m.\u001b[0m\u001b[0mon_request\u001b[0m\u001b[0;34m(\u001b[0m\u001b[0mrequest\u001b[0m\u001b[0;34m,\u001b[0m \u001b[0;34m**\u001b[0m\u001b[0mkwargs\u001b[0m\u001b[0;34m)\u001b[0m\u001b[0;34m\u001b[0m\u001b[0;34m\u001b[0m\u001b[0m\n\u001b[1;32m    149\u001b[0m         \u001b[0;32mtry\u001b[0m\u001b[0;34m:\u001b[0m\u001b[0;34m\u001b[0m\u001b[0;34m\u001b[0m\u001b[0m\n\u001b[0;32m--> 150\u001b[0;31m             \u001b[0mresponse\u001b[0m \u001b[0;34m=\u001b[0m \u001b[0mself\u001b[0m\u001b[0;34m.\u001b[0m\u001b[0mnext\u001b[0m\u001b[0;34m.\u001b[0m\u001b[0msend\u001b[0m\u001b[0;34m(\u001b[0m\u001b[0mrequest\u001b[0m\u001b[0;34m,\u001b[0m \u001b[0;34m**\u001b[0m\u001b[0mkwargs\u001b[0m\u001b[0;34m)\u001b[0m\u001b[0;34m\u001b[0m\u001b[0;34m\u001b[0m\u001b[0m\n\u001b[0m\u001b[1;32m    151\u001b[0m         \u001b[0;32mexcept\u001b[0m \u001b[0mException\u001b[0m\u001b[0;34m:\u001b[0m\u001b[0;34m\u001b[0m\u001b[0;34m\u001b[0m\u001b[0m\n\u001b[1;32m    152\u001b[0m             \u001b[0;32mif\u001b[0m \u001b[0;32mnot\u001b[0m \u001b[0mself\u001b[0m\u001b[0;34m.\u001b[0m\u001b[0m_policy\u001b[0m\u001b[0;34m.\u001b[0m\u001b[0mon_exception\u001b[0m\u001b[0;34m(\u001b[0m\u001b[0mrequest\u001b[0m\u001b[0;34m,\u001b[0m \u001b[0;34m**\u001b[0m\u001b[0mkwargs\u001b[0m\u001b[0;34m)\u001b[0m\u001b[0;34m:\u001b[0m\u001b[0;34m\u001b[0m\u001b[0;34m\u001b[0m\u001b[0m\n",
      "\u001b[0;32m/usr/local/lib/python3.7/dist-packages/msrest/pipeline/requests.py\u001b[0m in \u001b[0;36msend\u001b[0;34m(self, request, **kwargs)\u001b[0m\n\u001b[1;32m     70\u001b[0m         \u001b[0;32mtry\u001b[0m\u001b[0;34m:\u001b[0m\u001b[0;34m\u001b[0m\u001b[0;34m\u001b[0m\u001b[0m\n\u001b[1;32m     71\u001b[0m             \u001b[0;32mtry\u001b[0m\u001b[0;34m:\u001b[0m\u001b[0;34m\u001b[0m\u001b[0;34m\u001b[0m\u001b[0m\n\u001b[0;32m---> 72\u001b[0;31m                 \u001b[0;32mreturn\u001b[0m \u001b[0mself\u001b[0m\u001b[0;34m.\u001b[0m\u001b[0mnext\u001b[0m\u001b[0;34m.\u001b[0m\u001b[0msend\u001b[0m\u001b[0;34m(\u001b[0m\u001b[0mrequest\u001b[0m\u001b[0;34m,\u001b[0m \u001b[0;34m**\u001b[0m\u001b[0mkwargs\u001b[0m\u001b[0;34m)\u001b[0m\u001b[0;34m\u001b[0m\u001b[0;34m\u001b[0m\u001b[0m\n\u001b[0m\u001b[1;32m     73\u001b[0m             except (oauth2.rfc6749.errors.InvalidGrantError,\n\u001b[1;32m     74\u001b[0m                     oauth2.rfc6749.errors.TokenExpiredError) as err:\n",
      "\u001b[0;32m/usr/local/lib/python3.7/dist-packages/msrest/pipeline/requests.py\u001b[0m in \u001b[0;36msend\u001b[0;34m(self, request, **kwargs)\u001b[0m\n\u001b[1;32m    135\u001b[0m \u001b[0;34m\u001b[0m\u001b[0m\n\u001b[1;32m    136\u001b[0m         \u001b[0;32mtry\u001b[0m\u001b[0;34m:\u001b[0m\u001b[0;34m\u001b[0m\u001b[0;34m\u001b[0m\u001b[0m\n\u001b[0;32m--> 137\u001b[0;31m             \u001b[0;32mreturn\u001b[0m \u001b[0mself\u001b[0m\u001b[0;34m.\u001b[0m\u001b[0mnext\u001b[0m\u001b[0;34m.\u001b[0m\u001b[0msend\u001b[0m\u001b[0;34m(\u001b[0m\u001b[0mrequest\u001b[0m\u001b[0;34m,\u001b[0m \u001b[0;34m**\u001b[0m\u001b[0mkwargs\u001b[0m\u001b[0;34m)\u001b[0m\u001b[0;34m\u001b[0m\u001b[0;34m\u001b[0m\u001b[0m\n\u001b[0m\u001b[1;32m    138\u001b[0m         \u001b[0;32mfinally\u001b[0m\u001b[0;34m:\u001b[0m\u001b[0;34m\u001b[0m\u001b[0;34m\u001b[0m\u001b[0m\n\u001b[1;32m    139\u001b[0m             \u001b[0;32mif\u001b[0m \u001b[0mold_max_redirects\u001b[0m\u001b[0;34m:\u001b[0m\u001b[0;34m\u001b[0m\u001b[0;34m\u001b[0m\u001b[0m\n",
      "\u001b[0;32m/usr/local/lib/python3.7/dist-packages/msrest/pipeline/__init__.py\u001b[0m in \u001b[0;36msend\u001b[0;34m(self, request, **kwargs)\u001b[0m\n\u001b[1;32m    148\u001b[0m         \u001b[0mself\u001b[0m\u001b[0;34m.\u001b[0m\u001b[0m_policy\u001b[0m\u001b[0;34m.\u001b[0m\u001b[0mon_request\u001b[0m\u001b[0;34m(\u001b[0m\u001b[0mrequest\u001b[0m\u001b[0;34m,\u001b[0m \u001b[0;34m**\u001b[0m\u001b[0mkwargs\u001b[0m\u001b[0;34m)\u001b[0m\u001b[0;34m\u001b[0m\u001b[0;34m\u001b[0m\u001b[0m\n\u001b[1;32m    149\u001b[0m         \u001b[0;32mtry\u001b[0m\u001b[0;34m:\u001b[0m\u001b[0;34m\u001b[0m\u001b[0;34m\u001b[0m\u001b[0m\n\u001b[0;32m--> 150\u001b[0;31m             \u001b[0mresponse\u001b[0m \u001b[0;34m=\u001b[0m \u001b[0mself\u001b[0m\u001b[0;34m.\u001b[0m\u001b[0mnext\u001b[0m\u001b[0;34m.\u001b[0m\u001b[0msend\u001b[0m\u001b[0;34m(\u001b[0m\u001b[0mrequest\u001b[0m\u001b[0;34m,\u001b[0m \u001b[0;34m**\u001b[0m\u001b[0mkwargs\u001b[0m\u001b[0;34m)\u001b[0m\u001b[0;34m\u001b[0m\u001b[0;34m\u001b[0m\u001b[0m\n\u001b[0m\u001b[1;32m    151\u001b[0m         \u001b[0;32mexcept\u001b[0m \u001b[0mException\u001b[0m\u001b[0;34m:\u001b[0m\u001b[0;34m\u001b[0m\u001b[0;34m\u001b[0m\u001b[0m\n\u001b[1;32m    152\u001b[0m             \u001b[0;32mif\u001b[0m \u001b[0;32mnot\u001b[0m \u001b[0mself\u001b[0m\u001b[0;34m.\u001b[0m\u001b[0m_policy\u001b[0m\u001b[0;34m.\u001b[0m\u001b[0mon_exception\u001b[0m\u001b[0;34m(\u001b[0m\u001b[0mrequest\u001b[0m\u001b[0;34m,\u001b[0m \u001b[0;34m**\u001b[0m\u001b[0mkwargs\u001b[0m\u001b[0;34m)\u001b[0m\u001b[0;34m:\u001b[0m\u001b[0;34m\u001b[0m\u001b[0;34m\u001b[0m\u001b[0m\n",
      "\u001b[0;32m/usr/local/lib/python3.7/dist-packages/msrest/pipeline/requests.py\u001b[0m in \u001b[0;36msend\u001b[0;34m(self, request, **kwargs)\u001b[0m\n\u001b[1;32m    191\u001b[0m         return Response(\n\u001b[1;32m    192\u001b[0m             \u001b[0mrequest\u001b[0m\u001b[0;34m,\u001b[0m\u001b[0;34m\u001b[0m\u001b[0;34m\u001b[0m\u001b[0m\n\u001b[0;32m--> 193\u001b[0;31m             \u001b[0mself\u001b[0m\u001b[0;34m.\u001b[0m\u001b[0mdriver\u001b[0m\u001b[0;34m.\u001b[0m\u001b[0msend\u001b[0m\u001b[0;34m(\u001b[0m\u001b[0mrequest\u001b[0m\u001b[0;34m.\u001b[0m\u001b[0mhttp_request\u001b[0m\u001b[0;34m,\u001b[0m \u001b[0;34m**\u001b[0m\u001b[0mkwargs\u001b[0m\u001b[0;34m)\u001b[0m\u001b[0;34m\u001b[0m\u001b[0;34m\u001b[0m\u001b[0m\n\u001b[0m\u001b[1;32m    194\u001b[0m         )\n",
      "\u001b[0;32m/usr/local/lib/python3.7/dist-packages/msrest/universal_http/requests.py\u001b[0m in \u001b[0;36msend\u001b[0;34m(self, request, **kwargs)\u001b[0m\n\u001b[1;32m    331\u001b[0m         \"\"\"\n\u001b[1;32m    332\u001b[0m         \u001b[0mrequests_kwargs\u001b[0m \u001b[0;34m=\u001b[0m \u001b[0mself\u001b[0m\u001b[0;34m.\u001b[0m\u001b[0m_configure_send\u001b[0m\u001b[0;34m(\u001b[0m\u001b[0mrequest\u001b[0m\u001b[0;34m,\u001b[0m \u001b[0;34m**\u001b[0m\u001b[0mkwargs\u001b[0m\u001b[0;34m)\u001b[0m\u001b[0;34m\u001b[0m\u001b[0;34m\u001b[0m\u001b[0m\n\u001b[0;32m--> 333\u001b[0;31m         \u001b[0;32mreturn\u001b[0m \u001b[0msuper\u001b[0m\u001b[0;34m(\u001b[0m\u001b[0mRequestsHTTPSender\u001b[0m\u001b[0;34m,\u001b[0m \u001b[0mself\u001b[0m\u001b[0;34m)\u001b[0m\u001b[0;34m.\u001b[0m\u001b[0msend\u001b[0m\u001b[0;34m(\u001b[0m\u001b[0mrequest\u001b[0m\u001b[0;34m,\u001b[0m \u001b[0;34m**\u001b[0m\u001b[0mrequests_kwargs\u001b[0m\u001b[0;34m)\u001b[0m\u001b[0;34m\u001b[0m\u001b[0;34m\u001b[0m\u001b[0m\n\u001b[0m\u001b[1;32m    334\u001b[0m \u001b[0;34m\u001b[0m\u001b[0m\n\u001b[1;32m    335\u001b[0m \u001b[0;34m\u001b[0m\u001b[0m\n",
      "\u001b[0;32m/usr/local/lib/python3.7/dist-packages/msrest/universal_http/requests.py\u001b[0m in \u001b[0;36msend\u001b[0;34m(self, request, **kwargs)\u001b[0m\n\u001b[1;32m    140\u001b[0m                 \u001b[0mrequest\u001b[0m\u001b[0;34m.\u001b[0m\u001b[0mmethod\u001b[0m\u001b[0;34m,\u001b[0m\u001b[0;34m\u001b[0m\u001b[0;34m\u001b[0m\u001b[0m\n\u001b[1;32m    141\u001b[0m                 \u001b[0mrequest\u001b[0m\u001b[0;34m.\u001b[0m\u001b[0murl\u001b[0m\u001b[0;34m,\u001b[0m\u001b[0;34m\u001b[0m\u001b[0;34m\u001b[0m\u001b[0m\n\u001b[0;32m--> 142\u001b[0;31m                 **kwargs)\n\u001b[0m\u001b[1;32m    143\u001b[0m         \u001b[0;32mexcept\u001b[0m \u001b[0mrequests\u001b[0m\u001b[0;34m.\u001b[0m\u001b[0mRequestException\u001b[0m \u001b[0;32mas\u001b[0m \u001b[0merr\u001b[0m\u001b[0;34m:\u001b[0m\u001b[0;34m\u001b[0m\u001b[0;34m\u001b[0m\u001b[0m\n\u001b[1;32m    144\u001b[0m             \u001b[0mmsg\u001b[0m \u001b[0;34m=\u001b[0m \u001b[0;34m\"Error occurred in request.\"\u001b[0m\u001b[0;34m\u001b[0m\u001b[0;34m\u001b[0m\u001b[0m\n",
      "\u001b[0;32m/usr/local/lib/python3.7/dist-packages/requests/sessions.py\u001b[0m in \u001b[0;36mrequest\u001b[0;34m(self, method, url, params, data, headers, cookies, files, auth, timeout, allow_redirects, proxies, hooks, stream, verify, cert, json)\u001b[0m\n\u001b[1;32m    528\u001b[0m         }\n\u001b[1;32m    529\u001b[0m         \u001b[0msend_kwargs\u001b[0m\u001b[0;34m.\u001b[0m\u001b[0mupdate\u001b[0m\u001b[0;34m(\u001b[0m\u001b[0msettings\u001b[0m\u001b[0;34m)\u001b[0m\u001b[0;34m\u001b[0m\u001b[0;34m\u001b[0m\u001b[0m\n\u001b[0;32m--> 530\u001b[0;31m         \u001b[0mresp\u001b[0m \u001b[0;34m=\u001b[0m \u001b[0mself\u001b[0m\u001b[0;34m.\u001b[0m\u001b[0msend\u001b[0m\u001b[0;34m(\u001b[0m\u001b[0mprep\u001b[0m\u001b[0;34m,\u001b[0m \u001b[0;34m**\u001b[0m\u001b[0msend_kwargs\u001b[0m\u001b[0;34m)\u001b[0m\u001b[0;34m\u001b[0m\u001b[0;34m\u001b[0m\u001b[0m\n\u001b[0m\u001b[1;32m    531\u001b[0m \u001b[0;34m\u001b[0m\u001b[0m\n\u001b[1;32m    532\u001b[0m         \u001b[0;32mreturn\u001b[0m \u001b[0mresp\u001b[0m\u001b[0;34m\u001b[0m\u001b[0;34m\u001b[0m\u001b[0m\n",
      "\u001b[0;32m/usr/local/lib/python3.7/dist-packages/requests/sessions.py\u001b[0m in \u001b[0;36msend\u001b[0;34m(self, request, **kwargs)\u001b[0m\n\u001b[1;32m    641\u001b[0m \u001b[0;34m\u001b[0m\u001b[0m\n\u001b[1;32m    642\u001b[0m         \u001b[0;31m# Send the request\u001b[0m\u001b[0;34m\u001b[0m\u001b[0;34m\u001b[0m\u001b[0;34m\u001b[0m\u001b[0m\n\u001b[0;32m--> 643\u001b[0;31m         \u001b[0mr\u001b[0m \u001b[0;34m=\u001b[0m \u001b[0madapter\u001b[0m\u001b[0;34m.\u001b[0m\u001b[0msend\u001b[0m\u001b[0;34m(\u001b[0m\u001b[0mrequest\u001b[0m\u001b[0;34m,\u001b[0m \u001b[0;34m**\u001b[0m\u001b[0mkwargs\u001b[0m\u001b[0;34m)\u001b[0m\u001b[0;34m\u001b[0m\u001b[0;34m\u001b[0m\u001b[0m\n\u001b[0m\u001b[1;32m    644\u001b[0m \u001b[0;34m\u001b[0m\u001b[0m\n\u001b[1;32m    645\u001b[0m         \u001b[0;31m# Total elapsed time of the request (approximately)\u001b[0m\u001b[0;34m\u001b[0m\u001b[0;34m\u001b[0m\u001b[0;34m\u001b[0m\u001b[0m\n",
      "\u001b[0;32m/usr/local/lib/python3.7/dist-packages/requests/adapters.py\u001b[0m in \u001b[0;36msend\u001b[0;34m(self, request, stream, timeout, verify, cert, proxies)\u001b[0m\n\u001b[1;32m    447\u001b[0m                     \u001b[0mdecode_content\u001b[0m\u001b[0;34m=\u001b[0m\u001b[0;32mFalse\u001b[0m\u001b[0;34m,\u001b[0m\u001b[0;34m\u001b[0m\u001b[0;34m\u001b[0m\u001b[0m\n\u001b[1;32m    448\u001b[0m                     \u001b[0mretries\u001b[0m\u001b[0;34m=\u001b[0m\u001b[0mself\u001b[0m\u001b[0;34m.\u001b[0m\u001b[0mmax_retries\u001b[0m\u001b[0;34m,\u001b[0m\u001b[0;34m\u001b[0m\u001b[0;34m\u001b[0m\u001b[0m\n\u001b[0;32m--> 449\u001b[0;31m                     \u001b[0mtimeout\u001b[0m\u001b[0;34m=\u001b[0m\u001b[0mtimeout\u001b[0m\u001b[0;34m\u001b[0m\u001b[0;34m\u001b[0m\u001b[0m\n\u001b[0m\u001b[1;32m    450\u001b[0m                 )\n\u001b[1;32m    451\u001b[0m \u001b[0;34m\u001b[0m\u001b[0m\n",
      "\u001b[0;32m/usr/local/lib/python3.7/dist-packages/urllib3/connectionpool.py\u001b[0m in \u001b[0;36murlopen\u001b[0;34m(self, method, url, body, headers, retries, redirect, assert_same_host, timeout, pool_timeout, release_conn, chunked, body_pos, **response_kw)\u001b[0m\n\u001b[1;32m    721\u001b[0m             \u001b[0mdrain_and_release_conn\u001b[0m\u001b[0;34m(\u001b[0m\u001b[0mresponse\u001b[0m\u001b[0;34m)\u001b[0m\u001b[0;34m\u001b[0m\u001b[0;34m\u001b[0m\u001b[0m\n\u001b[1;32m    722\u001b[0m \u001b[0;34m\u001b[0m\u001b[0m\n\u001b[0;32m--> 723\u001b[0;31m             \u001b[0mretries\u001b[0m\u001b[0;34m.\u001b[0m\u001b[0msleep\u001b[0m\u001b[0;34m(\u001b[0m\u001b[0mresponse\u001b[0m\u001b[0;34m)\u001b[0m\u001b[0;34m\u001b[0m\u001b[0;34m\u001b[0m\u001b[0m\n\u001b[0m\u001b[1;32m    724\u001b[0m             \u001b[0mlog\u001b[0m\u001b[0;34m.\u001b[0m\u001b[0mdebug\u001b[0m\u001b[0;34m(\u001b[0m\u001b[0;34m\"Retry: %s\"\u001b[0m\u001b[0;34m,\u001b[0m \u001b[0murl\u001b[0m\u001b[0;34m)\u001b[0m\u001b[0;34m\u001b[0m\u001b[0;34m\u001b[0m\u001b[0m\n\u001b[1;32m    725\u001b[0m             return self.urlopen(\n",
      "\u001b[0;32m/usr/local/lib/python3.7/dist-packages/urllib3/util/retry.py\u001b[0m in \u001b[0;36msleep\u001b[0;34m(self, response)\u001b[0m\n\u001b[1;32m    276\u001b[0m \u001b[0;34m\u001b[0m\u001b[0m\n\u001b[1;32m    277\u001b[0m         \u001b[0;32mif\u001b[0m \u001b[0mresponse\u001b[0m\u001b[0;34m:\u001b[0m\u001b[0;34m\u001b[0m\u001b[0;34m\u001b[0m\u001b[0m\n\u001b[0;32m--> 278\u001b[0;31m             \u001b[0mslept\u001b[0m \u001b[0;34m=\u001b[0m \u001b[0mself\u001b[0m\u001b[0;34m.\u001b[0m\u001b[0msleep_for_retry\u001b[0m\u001b[0;34m(\u001b[0m\u001b[0mresponse\u001b[0m\u001b[0;34m)\u001b[0m\u001b[0;34m\u001b[0m\u001b[0;34m\u001b[0m\u001b[0m\n\u001b[0m\u001b[1;32m    279\u001b[0m             \u001b[0;32mif\u001b[0m \u001b[0mslept\u001b[0m\u001b[0;34m:\u001b[0m\u001b[0;34m\u001b[0m\u001b[0;34m\u001b[0m\u001b[0m\n\u001b[1;32m    280\u001b[0m                 \u001b[0;32mreturn\u001b[0m\u001b[0;34m\u001b[0m\u001b[0;34m\u001b[0m\u001b[0m\n",
      "\u001b[0;32m/usr/local/lib/python3.7/dist-packages/urllib3/util/retry.py\u001b[0m in \u001b[0;36msleep_for_retry\u001b[0;34m(self, response)\u001b[0m\n\u001b[1;32m    255\u001b[0m         \u001b[0mretry_after\u001b[0m \u001b[0;34m=\u001b[0m \u001b[0mself\u001b[0m\u001b[0;34m.\u001b[0m\u001b[0mget_retry_after\u001b[0m\u001b[0;34m(\u001b[0m\u001b[0mresponse\u001b[0m\u001b[0;34m)\u001b[0m\u001b[0;34m\u001b[0m\u001b[0;34m\u001b[0m\u001b[0m\n\u001b[1;32m    256\u001b[0m         \u001b[0;32mif\u001b[0m \u001b[0mretry_after\u001b[0m\u001b[0;34m:\u001b[0m\u001b[0;34m\u001b[0m\u001b[0;34m\u001b[0m\u001b[0m\n\u001b[0;32m--> 257\u001b[0;31m             \u001b[0mtime\u001b[0m\u001b[0;34m.\u001b[0m\u001b[0msleep\u001b[0m\u001b[0;34m(\u001b[0m\u001b[0mretry_after\u001b[0m\u001b[0;34m)\u001b[0m\u001b[0;34m\u001b[0m\u001b[0;34m\u001b[0m\u001b[0m\n\u001b[0m\u001b[1;32m    258\u001b[0m             \u001b[0;32mreturn\u001b[0m \u001b[0;32mTrue\u001b[0m\u001b[0;34m\u001b[0m\u001b[0;34m\u001b[0m\u001b[0m\n\u001b[1;32m    259\u001b[0m \u001b[0;34m\u001b[0m\u001b[0m\n",
      "\u001b[0;31mKeyboardInterrupt\u001b[0m: "
     ]
    }
   ],
   "source": [
    "minhaStream.filter(follow=famosos_id)"
   ]
  },
  {
   "cell_type": "code",
   "execution_count": null,
   "metadata": {
    "colab": {
     "base_uri": "https://localhost:8080/"
    },
    "id": "pzFlMAIHEihq",
    "outputId": "6fdc6ff6-48f0-4779-c179-16c643866fd5"
   },
   "outputs": [
    {
     "data": {
      "text/plain": [
       "['cauareymond',\n",
       " 'aguiarthur',\n",
       " 'ivetesangalo',\n",
       " 'ClaudiaLeitte',\n",
       " 'neymarjr',\n",
       " 'BruMarquezine',\n",
       " 'mariruybarbosa',\n",
       " 'FePaesLeme',\n",
       " 'Tatawerneck',\n",
       " 'FlaviaAleReal',\n",
       " 'julianapaes',\n",
       " 'dedesecco',\n",
       " 'SabrinaSato',\n",
       " 'ahickmann',\n",
       " 'gusttavo_lima',\n",
       " 'Anitta',\n",
       " 'CarolCastroReal',\n",
       " 'gio_antonelli',\n",
       " 'maisa',\n",
       " 'cleooficial',\n",
       " 'gewbank',\n",
       " 'taisdeverdade',\n",
       " 'otaviano',\n",
       " 'bernardipaloma',\n",
       " 'IngridGuimaraes',\n",
       " 'olazaroramos',\n",
       " 'GalisteuOficial',\n",
       " 'debranascimento',\n",
       " 'FioMattheis',\n",
       " 'moalfradique',\n",
       " 'Nandacostareal']"
      ]
     },
     "execution_count": 75,
     "metadata": {},
     "output_type": "execute_result"
    }
   ],
   "source": [
    "famosos"
   ]
  },
  {
   "cell_type": "markdown",
   "metadata": {
    "id": "8dooU37FL5je"
   },
   "source": [
    "# Avaliando Resultados"
   ]
  },
  {
   "cell_type": "code",
   "execution_count": null,
   "metadata": {
    "id": "pYylIXDoHaQq"
   },
   "outputs": [],
   "source": [
    "lista_arquivo= []\n",
    "\n",
    "with open(\"tweets.txt\", 'r') as arquivo:\n",
    "  for linha in arquivo:\n",
    "    lista_arquivo.append(json.loads(linha))"
   ]
  },
  {
   "cell_type": "code",
   "execution_count": null,
   "metadata": {
    "colab": {
     "base_uri": "https://localhost:8080/"
    },
    "id": "0nadByf3Macc",
    "outputId": "4fa880ec-975c-4c7b-c855-4079d3dcb8c0"
   },
   "outputs": [
    {
     "data": {
      "text/plain": [
       "{'Texto': 'RT @Aguiarthur: Esqueci de postar 12h mas tô aqui hein? ✨💛 https://t.co/YlVlUx8T89',\n",
       " 'celebridades': [],\n",
       " 'descricao': 'a man looking at a blanket',\n",
       " 'tags': ['person',\n",
       "  'clothing',\n",
       "  'inflatable',\n",
       "  'boy',\n",
       "  'indoor',\n",
       "  'baby',\n",
       "  'child',\n",
       "  'Lilo'],\n",
       " 'url': 'http://pbs.twimg.com/ext_tw_video_thumb/1485487741714538496/pu/img/nh-31p_rTGyBowak.jpg',\n",
       " 'usuário': 'ArthurFtAnahi'}"
      ]
     },
     "execution_count": 88,
     "metadata": {},
     "output_type": "execute_result"
    }
   ],
   "source": [
    "lista_arquivo[0]"
   ]
  },
  {
   "cell_type": "code",
   "execution_count": null,
   "metadata": {
    "id": "c44VScDVMjBG"
   },
   "outputs": [],
   "source": [
    "import pandas as pd"
   ]
  },
  {
   "cell_type": "code",
   "execution_count": null,
   "metadata": {
    "id": "dhQC8VZZMm-m"
   },
   "outputs": [],
   "source": [
    "imagens = pd.DataFrame(lista_arquivo)"
   ]
  },
  {
   "cell_type": "code",
   "execution_count": null,
   "metadata": {
    "colab": {
     "base_uri": "https://localhost:8080/",
     "height": 579
    },
    "id": "QuW-NzySMr4l",
    "outputId": "403199c0-e4f5-4ddb-f3bb-86c85a48e30e"
   },
   "outputs": [
    {
     "data": {
      "text/html": [
       "\n",
       "  <div id=\"df-0f10e52f-e788-4f82-a15c-774b7174f5be\">\n",
       "    <div class=\"colab-df-container\">\n",
       "      <div>\n",
       "<style scoped>\n",
       "    .dataframe tbody tr th:only-of-type {\n",
       "        vertical-align: middle;\n",
       "    }\n",
       "\n",
       "    .dataframe tbody tr th {\n",
       "        vertical-align: top;\n",
       "    }\n",
       "\n",
       "    .dataframe thead th {\n",
       "        text-align: right;\n",
       "    }\n",
       "</style>\n",
       "<table border=\"1\" class=\"dataframe\">\n",
       "  <thead>\n",
       "    <tr style=\"text-align: right;\">\n",
       "      <th></th>\n",
       "      <th>usuário</th>\n",
       "      <th>Texto</th>\n",
       "      <th>url</th>\n",
       "      <th>celebridades</th>\n",
       "      <th>descricao</th>\n",
       "      <th>tags</th>\n",
       "    </tr>\n",
       "  </thead>\n",
       "  <tbody>\n",
       "    <tr>\n",
       "      <th>0</th>\n",
       "      <td>ArthurFtAnahi</td>\n",
       "      <td>RT @Aguiarthur: Esqueci de postar 12h mas tô a...</td>\n",
       "      <td>http://pbs.twimg.com/ext_tw_video_thumb/148548...</td>\n",
       "      <td>[]</td>\n",
       "      <td>a man looking at a blanket</td>\n",
       "      <td>[person, clothing, inflatable, boy, indoor, ba...</td>\n",
       "    </tr>\n",
       "    <tr>\n",
       "      <th>1</th>\n",
       "      <td>TacianeU</td>\n",
       "      <td>@Aguiarthur Lembrando que só foram eliminados ...</td>\n",
       "      <td>http://pbs.twimg.com/media/FQuoHbsXsAYOXzG.jpg</td>\n",
       "      <td>[]</td>\n",
       "      <td>graphical user interface, text, application, c...</td>\n",
       "      <td>[text, screenshot, font]</td>\n",
       "    </tr>\n",
       "    <tr>\n",
       "      <th>2</th>\n",
       "      <td>Biella2306</td>\n",
       "      <td>RT @Anitta: What a week! Go check my new album...</td>\n",
       "      <td>http://pbs.twimg.com/media/FQuSdZsWYAUu99C.jpg</td>\n",
       "      <td>[]</td>\n",
       "      <td>graphical user interface</td>\n",
       "      <td>[text, human face, screenshot, clothing, man, ...</td>\n",
       "    </tr>\n",
       "    <tr>\n",
       "      <th>3</th>\n",
       "      <td>Arthur93628577</td>\n",
       "      <td>RT @Anitta: What a week! Go check my new album...</td>\n",
       "      <td>http://pbs.twimg.com/media/FQuSdZsWYAUu99C.jpg</td>\n",
       "      <td>[]</td>\n",
       "      <td>graphical user interface</td>\n",
       "      <td>[text, human face, screenshot, clothing, man, ...</td>\n",
       "    </tr>\n",
       "    <tr>\n",
       "      <th>4</th>\n",
       "      <td>jenmeneses21</td>\n",
       "      <td>RT @Anitta: What a week! Go check my new album...</td>\n",
       "      <td>http://pbs.twimg.com/media/FQuSdZsWYAUu99C.jpg</td>\n",
       "      <td>[]</td>\n",
       "      <td>graphical user interface</td>\n",
       "      <td>[text, human face, screenshot, clothing, man, ...</td>\n",
       "    </tr>\n",
       "  </tbody>\n",
       "</table>\n",
       "</div>\n",
       "      <button class=\"colab-df-convert\" onclick=\"convertToInteractive('df-0f10e52f-e788-4f82-a15c-774b7174f5be')\"\n",
       "              title=\"Convert this dataframe to an interactive table.\"\n",
       "              style=\"display:none;\">\n",
       "        \n",
       "  <svg xmlns=\"http://www.w3.org/2000/svg\" height=\"24px\"viewBox=\"0 0 24 24\"\n",
       "       width=\"24px\">\n",
       "    <path d=\"M0 0h24v24H0V0z\" fill=\"none\"/>\n",
       "    <path d=\"M18.56 5.44l.94 2.06.94-2.06 2.06-.94-2.06-.94-.94-2.06-.94 2.06-2.06.94zm-11 1L8.5 8.5l.94-2.06 2.06-.94-2.06-.94L8.5 2.5l-.94 2.06-2.06.94zm10 10l.94 2.06.94-2.06 2.06-.94-2.06-.94-.94-2.06-.94 2.06-2.06.94z\"/><path d=\"M17.41 7.96l-1.37-1.37c-.4-.4-.92-.59-1.43-.59-.52 0-1.04.2-1.43.59L10.3 9.45l-7.72 7.72c-.78.78-.78 2.05 0 2.83L4 21.41c.39.39.9.59 1.41.59.51 0 1.02-.2 1.41-.59l7.78-7.78 2.81-2.81c.8-.78.8-2.07 0-2.86zM5.41 20L4 18.59l7.72-7.72 1.47 1.35L5.41 20z\"/>\n",
       "  </svg>\n",
       "      </button>\n",
       "      \n",
       "  <style>\n",
       "    .colab-df-container {\n",
       "      display:flex;\n",
       "      flex-wrap:wrap;\n",
       "      gap: 12px;\n",
       "    }\n",
       "\n",
       "    .colab-df-convert {\n",
       "      background-color: #E8F0FE;\n",
       "      border: none;\n",
       "      border-radius: 50%;\n",
       "      cursor: pointer;\n",
       "      display: none;\n",
       "      fill: #1967D2;\n",
       "      height: 32px;\n",
       "      padding: 0 0 0 0;\n",
       "      width: 32px;\n",
       "    }\n",
       "\n",
       "    .colab-df-convert:hover {\n",
       "      background-color: #E2EBFA;\n",
       "      box-shadow: 0px 1px 2px rgba(60, 64, 67, 0.3), 0px 1px 3px 1px rgba(60, 64, 67, 0.15);\n",
       "      fill: #174EA6;\n",
       "    }\n",
       "\n",
       "    [theme=dark] .colab-df-convert {\n",
       "      background-color: #3B4455;\n",
       "      fill: #D2E3FC;\n",
       "    }\n",
       "\n",
       "    [theme=dark] .colab-df-convert:hover {\n",
       "      background-color: #434B5C;\n",
       "      box-shadow: 0px 1px 3px 1px rgba(0, 0, 0, 0.15);\n",
       "      filter: drop-shadow(0px 1px 2px rgba(0, 0, 0, 0.3));\n",
       "      fill: #FFFFFF;\n",
       "    }\n",
       "  </style>\n",
       "\n",
       "      <script>\n",
       "        const buttonEl =\n",
       "          document.querySelector('#df-0f10e52f-e788-4f82-a15c-774b7174f5be button.colab-df-convert');\n",
       "        buttonEl.style.display =\n",
       "          google.colab.kernel.accessAllowed ? 'block' : 'none';\n",
       "\n",
       "        async function convertToInteractive(key) {\n",
       "          const element = document.querySelector('#df-0f10e52f-e788-4f82-a15c-774b7174f5be');\n",
       "          const dataTable =\n",
       "            await google.colab.kernel.invokeFunction('convertToInteractive',\n",
       "                                                     [key], {});\n",
       "          if (!dataTable) return;\n",
       "\n",
       "          const docLinkHtml = 'Like what you see? Visit the ' +\n",
       "            '<a target=\"_blank\" href=https://colab.research.google.com/notebooks/data_table.ipynb>data table notebook</a>'\n",
       "            + ' to learn more about interactive tables.';\n",
       "          element.innerHTML = '';\n",
       "          dataTable['output_type'] = 'display_data';\n",
       "          await google.colab.output.renderOutput(dataTable, element);\n",
       "          const docLink = document.createElement('div');\n",
       "          docLink.innerHTML = docLinkHtml;\n",
       "          element.appendChild(docLink);\n",
       "        }\n",
       "      </script>\n",
       "    </div>\n",
       "  </div>\n",
       "  "
      ],
      "text/plain": [
       "          usuário                                              Texto  \\\n",
       "0   ArthurFtAnahi  RT @Aguiarthur: Esqueci de postar 12h mas tô a...   \n",
       "1        TacianeU  @Aguiarthur Lembrando que só foram eliminados ...   \n",
       "2      Biella2306  RT @Anitta: What a week! Go check my new album...   \n",
       "3  Arthur93628577  RT @Anitta: What a week! Go check my new album...   \n",
       "4    jenmeneses21  RT @Anitta: What a week! Go check my new album...   \n",
       "\n",
       "                                                 url celebridades  \\\n",
       "0  http://pbs.twimg.com/ext_tw_video_thumb/148548...           []   \n",
       "1     http://pbs.twimg.com/media/FQuoHbsXsAYOXzG.jpg           []   \n",
       "2     http://pbs.twimg.com/media/FQuSdZsWYAUu99C.jpg           []   \n",
       "3     http://pbs.twimg.com/media/FQuSdZsWYAUu99C.jpg           []   \n",
       "4     http://pbs.twimg.com/media/FQuSdZsWYAUu99C.jpg           []   \n",
       "\n",
       "                                           descricao  \\\n",
       "0                         a man looking at a blanket   \n",
       "1  graphical user interface, text, application, c...   \n",
       "2                           graphical user interface   \n",
       "3                           graphical user interface   \n",
       "4                           graphical user interface   \n",
       "\n",
       "                                                tags  \n",
       "0  [person, clothing, inflatable, boy, indoor, ba...  \n",
       "1                           [text, screenshot, font]  \n",
       "2  [text, human face, screenshot, clothing, man, ...  \n",
       "3  [text, human face, screenshot, clothing, man, ...  \n",
       "4  [text, human face, screenshot, clothing, man, ...  "
      ]
     },
     "execution_count": 91,
     "metadata": {},
     "output_type": "execute_result"
    }
   ],
   "source": [
    "imagens.head()"
   ]
  },
  {
   "cell_type": "code",
   "execution_count": null,
   "metadata": {
    "id": "gmZkcSBRMtbT"
   },
   "outputs": [],
   "source": [
    "pesquisa = 'human face'\n",
    "\n",
    "achados = [(pesquisa in lista) for lista in imagens.tags]"
   ]
  },
  {
   "cell_type": "code",
   "execution_count": null,
   "metadata": {
    "colab": {
     "base_uri": "https://localhost:8080/"
    },
    "id": "F3XNDjGwNFlx",
    "outputId": "257e1b5c-298b-4cf9-8908-c1e3c19649ef"
   },
   "outputs": [
    {
     "data": {
      "text/plain": [
       "False"
      ]
     },
     "execution_count": 109,
     "metadata": {},
     "output_type": "execute_result"
    }
   ],
   "source": [
    "pesquisa in imagens.tags[0]"
   ]
  },
  {
   "cell_type": "code",
   "execution_count": null,
   "metadata": {
    "colab": {
     "base_uri": "https://localhost:8080/"
    },
    "id": "MpWvPll3NM3O",
    "outputId": "e3bed79f-a19e-4a8a-8d82-6b1e92981546"
   },
   "outputs": [
    {
     "data": {
      "text/plain": [
       "['text',\n",
       " 'human face',\n",
       " 'screenshot',\n",
       " 'clothing',\n",
       " 'man',\n",
       " 'person',\n",
       " 'website',\n",
       " 'online advertising',\n",
       " 'design']"
      ]
     },
     "execution_count": 110,
     "metadata": {},
     "output_type": "execute_result"
    }
   ],
   "source": [
    "imagens.tags[2]"
   ]
  },
  {
   "cell_type": "code",
   "execution_count": null,
   "metadata": {
    "colab": {
     "base_uri": "https://localhost:8080/",
     "height": 35
    },
    "id": "c65YDEf2NVZa",
    "outputId": "5f9f9917-40bb-4e0d-8110-316c846abf76"
   },
   "outputs": [
    {
     "data": {
      "application/vnd.google.colaboratory.intrinsic+json": {
       "type": "string"
      },
      "text/plain": [
       "'graphical user interface'"
      ]
     },
     "execution_count": 111,
     "metadata": {},
     "output_type": "execute_result"
    }
   ],
   "source": [
    "imagens[achados].descricao.iloc[0]"
   ]
  },
  {
   "cell_type": "code",
   "execution_count": null,
   "metadata": {
    "colab": {
     "base_uri": "https://localhost:8080/"
    },
    "id": "Brb1TiMyNbPG",
    "outputId": "74723871-e089-46f5-cbcb-89b7e1a36039"
   },
   "outputs": [
    {
     "data": {
      "text/plain": [
       "['text',\n",
       " 'human face',\n",
       " 'screenshot',\n",
       " 'clothing',\n",
       " 'man',\n",
       " 'person',\n",
       " 'website',\n",
       " 'online advertising',\n",
       " 'design']"
      ]
     },
     "execution_count": 112,
     "metadata": {},
     "output_type": "execute_result"
    }
   ],
   "source": [
    "imagens[achados].tags.iloc[0]"
   ]
  },
  {
   "cell_type": "code",
   "execution_count": null,
   "metadata": {
    "colab": {
     "base_uri": "https://localhost:8080/",
     "height": 35
    },
    "id": "Co5uvWSJNnUG",
    "outputId": "3e1006e9-c7c8-486e-fa04-1d66bc506827"
   },
   "outputs": [
    {
     "data": {
      "application/vnd.google.colaboratory.intrinsic+json": {
       "type": "string"
      },
      "text/plain": [
       "'http://pbs.twimg.com/media/FQuSdZsWYAUu99C.jpg'"
      ]
     },
     "execution_count": 113,
     "metadata": {},
     "output_type": "execute_result"
    }
   ],
   "source": [
    "imagens[achados].url.iloc[0]"
   ]
  },
  {
   "cell_type": "code",
   "execution_count": null,
   "metadata": {
    "colab": {
     "base_uri": "https://localhost:8080/",
     "height": 35
    },
    "id": "-dRvyKBhNrR9",
    "outputId": "20145879-8b05-41b2-8964-992b83d21805"
   },
   "outputs": [
    {
     "data": {
      "application/vnd.google.colaboratory.intrinsic+json": {
       "type": "string"
      },
      "text/plain": [
       "'http://pbs.twimg.com/ext_tw_video_thumb/1516190928070918149/pu/img/hvDGeQ2nfVc2otjh.jpg'"
      ]
     },
     "execution_count": 124,
     "metadata": {},
     "output_type": "execute_result"
    }
   ],
   "source": [
    "imagens[achados].url.iloc[7]"
   ]
  },
  {
   "cell_type": "code",
   "execution_count": null,
   "metadata": {
    "id": "UVwnJuPfOBl5"
   },
   "outputs": [],
   "source": []
  }
 ],
 "metadata": {
  "colab": {
   "name": "twitter.ipynb",
   "provenance": []
  },
  "kernelspec": {
   "display_name": "Python 3 (ipykernel)",
   "language": "python",
   "name": "python3"
  },
  "language_info": {
   "codemirror_mode": {
    "name": "ipython",
    "version": 3
   },
   "file_extension": ".py",
   "mimetype": "text/x-python",
   "name": "python",
   "nbconvert_exporter": "python",
   "pygments_lexer": "ipython3",
   "version": "3.9.7"
  }
 },
 "nbformat": 4,
 "nbformat_minor": 1
}
